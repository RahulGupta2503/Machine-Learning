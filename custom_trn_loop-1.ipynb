{
 "cells": [
  {
   "cell_type": "code",
   "execution_count": 1,
   "metadata": {
    "id": "JLckb5vLZn47"
   },
   "outputs": [],
   "source": [
    "import tensorflow as tf\n",
    "import numpy as np\n",
    "import matplotlib.pyplot as plt"
   ]
  },
  {
   "cell_type": "code",
   "execution_count": 2,
   "metadata": {},
   "outputs": [
    {
     "data": {
      "text/plain": [
       "'2.10.0'"
      ]
     },
     "execution_count": 2,
     "metadata": {},
     "output_type": "execute_result"
    }
   ],
   "source": [
    "tf.__version__"
   ]
  },
  {
   "cell_type": "markdown",
   "metadata": {
    "id": "_nTmRjGt9cZP"
   },
   "source": [
    "Creating a Simple Dataset"
   ]
  },
  {
   "cell_type": "code",
   "execution_count": 3,
   "metadata": {
    "colab": {
     "base_uri": "https://localhost:8080/"
    },
    "id": "GAEC0i5_ZqSx",
    "outputId": "ba416b9b-710e-4ab5-ceec-979a45836136"
   },
   "outputs": [
    {
     "name": "stdout",
     "output_type": "stream",
     "text": [
      "[-2.         -1.95959596 -1.91919192 -1.87878788 -1.83838384 -1.7979798\n",
      " -1.75757576 -1.71717172 -1.67676768 -1.63636364 -1.5959596  -1.55555556\n",
      " -1.51515152 -1.47474747 -1.43434343 -1.39393939 -1.35353535 -1.31313131\n",
      " -1.27272727 -1.23232323 -1.19191919 -1.15151515 -1.11111111 -1.07070707\n",
      " -1.03030303 -0.98989899 -0.94949495 -0.90909091 -0.86868687 -0.82828283\n",
      " -0.78787879 -0.74747475 -0.70707071 -0.66666667 -0.62626263 -0.58585859\n",
      " -0.54545455 -0.50505051 -0.46464646 -0.42424242 -0.38383838 -0.34343434\n",
      " -0.3030303  -0.26262626 -0.22222222 -0.18181818 -0.14141414 -0.1010101\n",
      " -0.06060606 -0.02020202  0.02020202  0.06060606  0.1010101   0.14141414\n",
      "  0.18181818  0.22222222  0.26262626  0.3030303   0.34343434  0.38383838\n",
      "  0.42424242  0.46464646  0.50505051  0.54545455  0.58585859  0.62626263\n",
      "  0.66666667  0.70707071  0.74747475  0.78787879  0.82828283  0.86868687\n",
      "  0.90909091  0.94949495  0.98989899  1.03030303  1.07070707  1.11111111\n",
      "  1.15151515  1.19191919  1.23232323  1.27272727  1.31313131  1.35353535\n",
      "  1.39393939  1.43434343  1.47474747  1.51515152  1.55555556  1.5959596\n",
      "  1.63636364  1.67676768  1.71717172  1.75757576  1.7979798   1.83838384\n",
      "  1.87878788  1.91919192  1.95959596  2.        ]\n",
      "[1.         1.08080808 1.16161616 1.24242424 1.32323232 1.4040404\n",
      " 1.48484848 1.56565657 1.64646465 1.72727273 1.80808081 1.88888889\n",
      " 1.96969697 2.05050505 2.13131313 2.21212121 2.29292929 2.37373737\n",
      " 2.45454545 2.53535354 2.61616162 2.6969697  2.77777778 2.85858586\n",
      " 2.93939394 3.02020202 3.1010101  3.18181818 3.26262626 3.34343434\n",
      " 3.42424242 3.50505051 3.58585859 3.66666667 3.74747475 3.82828283\n",
      " 3.90909091 3.98989899 4.07070707 4.15151515 4.23232323 4.31313131\n",
      " 4.39393939 4.47474747 4.55555556 4.63636364 4.71717172 4.7979798\n",
      " 4.87878788 4.95959596 5.04040404 5.12121212 5.2020202  5.28282828\n",
      " 5.36363636 5.44444444 5.52525253 5.60606061 5.68686869 5.76767677\n",
      " 5.84848485 5.92929293 6.01010101 6.09090909 6.17171717 6.25252525\n",
      " 6.33333333 6.41414141 6.49494949 6.57575758 6.65656566 6.73737374\n",
      " 6.81818182 6.8989899  6.97979798 7.06060606 7.14141414 7.22222222\n",
      " 7.3030303  7.38383838 7.46464646 7.54545455 7.62626263 7.70707071\n",
      " 7.78787879 7.86868687 7.94949495 8.03030303 8.11111111 8.19191919\n",
      " 8.27272727 8.35353535 8.43434343 8.51515152 8.5959596  8.67676768\n",
      " 8.75757576 8.83838384 8.91919192 9.        ]\n"
     ]
    }
   ],
   "source": [
    "x = np.linspace(-2,2, 100)\n",
    "def f(x):\n",
    "  return x * 2.0 + 5.0\n",
    "y = f(x)\n",
    "print(x)\n",
    "print(y)"
   ]
  },
  {
   "cell_type": "code",
   "execution_count": 4,
   "metadata": {
    "id": "g4AnvFxZC5Y9"
   },
   "outputs": [],
   "source": [
    "initial_w = 3.0\n",
    "initial_b = 4.0"
   ]
  },
  {
   "cell_type": "code",
   "execution_count": 5,
   "metadata": {
    "colab": {
     "base_uri": "https://localhost:8080/"
    },
    "id": "SsgTYvLVr--o",
    "outputId": "8f25b95d-03d8-4c1e-9e30-da7f45809d3b"
   },
   "outputs": [
    {
     "data": {
      "text/plain": [
       "numpy.ndarray"
      ]
     },
     "execution_count": 5,
     "metadata": {},
     "output_type": "execute_result"
    }
   ],
   "source": [
    "type(x)"
   ]
  },
  {
   "cell_type": "code",
   "execution_count": 6,
   "metadata": {
    "colab": {
     "base_uri": "https://localhost:8080/"
    },
    "id": "47I5APgYr-50",
    "outputId": "34d5d6fc-13fb-498d-9529-29208d2413c5"
   },
   "outputs": [
    {
     "data": {
      "text/plain": [
       "numpy.ndarray"
      ]
     },
     "execution_count": 6,
     "metadata": {},
     "output_type": "execute_result"
    }
   ],
   "source": [
    "type(y)"
   ]
  },
  {
   "cell_type": "code",
   "execution_count": 7,
   "metadata": {
    "id": "iBUABwhBZr-J"
   },
   "outputs": [],
   "source": [
    "class Model(tf.Module):\n",
    "  def __init__(self, **kwargs):\n",
    "    super().__init__(**kwargs)\n",
    "    # In practice, these should be randomly initialized\n",
    "    self.w = tf.Variable(initial_w)\n",
    "    self.b = tf.Variable(initial_b)\n",
    "\n",
    "  def __call__(self, x):\n",
    "    return self.w * x + self.b\n",
    "\n",
    "model = Model()"
   ]
  },
  {
   "cell_type": "markdown",
   "metadata": {
    "id": "k6YFin1i6Qe_"
   },
   "source": [
    "Defining the loss function: Mean Squared Error"
   ]
  },
  {
   "cell_type": "code",
   "execution_count": 8,
   "metadata": {
    "id": "cQLx6luO4q7W"
   },
   "outputs": [],
   "source": [
    "def loss(predicted_y, actual_y):\n",
    "  return tf.reduce_mean(tf.square(predicted_y - actual_y))"
   ]
  },
  {
   "cell_type": "markdown",
   "metadata": {
    "id": "7rzHfArC-nVe"
   },
   "source": [
    "Function for Plotting "
   ]
  },
  {
   "cell_type": "code",
   "execution_count": 9,
   "metadata": {
    "id": "6FS7p8Sg5e7P"
   },
   "outputs": [],
   "source": [
    "def plot_data(inputs, outputs, pred_outputs):\n",
    "  actual = plt.scatter(inputs, outputs, c='blue',label = 'Actual Data')\n",
    "  predicted = plt.scatter(inputs, pred_outputs, c='red', label = 'Predicted Data')\n",
    "  plt.legend(loc='best')\n",
    "  plt.show()\n"
   ]
  },
  {
   "cell_type": "code",
   "execution_count": 10,
   "metadata": {
    "colab": {
     "base_uri": "https://localhost:8080/"
    },
    "id": "EUKQ8GoM_a9p",
    "outputId": "8e10bc42-b490-4a8c-eb06-742e3ddea59d"
   },
   "outputs": [
    {
     "data": {
      "text/plain": [
       "tensorflow.python.framework.ops.EagerTensor"
      ]
     },
     "execution_count": 10,
     "metadata": {},
     "output_type": "execute_result"
    }
   ],
   "source": [
    "x = tf.convert_to_tensor(x, dtype=tf.float32)\n",
    "type(x)"
   ]
  },
  {
   "cell_type": "code",
   "execution_count": 11,
   "metadata": {
    "colab": {
     "base_uri": "https://localhost:8080/"
    },
    "id": "w9apXP3iE0Ss",
    "outputId": "06d584ab-6a7c-43b7-9d5c-b1f1b112ece0"
   },
   "outputs": [
    {
     "data": {
      "text/plain": [
       "tensorflow.python.framework.ops.EagerTensor"
      ]
     },
     "execution_count": 11,
     "metadata": {},
     "output_type": "execute_result"
    }
   ],
   "source": [
    "y = tf.convert_to_tensor(y, dtype=tf.float32)\n",
    "type(y)"
   ]
  },
  {
   "cell_type": "code",
   "execution_count": 12,
   "metadata": {
    "colab": {
     "base_uri": "https://localhost:8080/"
    },
    "id": "om4Rxq9UBFYc",
    "outputId": "7dd7fa90-d3e2-4102-d0b0-c6ff6daeb111"
   },
   "outputs": [
    {
     "data": {
      "text/plain": [
       "<tf.Tensor: shape=(100,), dtype=float32, numpy=\n",
       "array([-2.        , -1.878788  , -1.757576  , -1.6363635 , -1.5151515 ,\n",
       "       -1.3939395 , -1.272727  , -1.151515  , -1.030303  , -0.909091  ,\n",
       "       -0.7878785 , -0.666667  , -0.5454545 , -0.42424202, -0.3030305 ,\n",
       "       -0.18181801, -0.060606  ,  0.060606  ,  0.18181825,  0.30303   ,\n",
       "        0.4242425 ,  0.5454545 ,  0.6666665 ,  0.78787875,  0.909091  ,\n",
       "        1.030303  ,  1.151515  ,  1.2727273 ,  1.3939395 ,  1.5151515 ,\n",
       "        1.6363635 ,  1.7575758 ,  1.878788  ,  2.        ,  2.1212122 ,\n",
       "        2.2424242 ,  2.3636363 ,  2.4848485 ,  2.6060605 ,  2.7272727 ,\n",
       "        2.848485  ,  2.969697  ,  3.090909  ,  3.2121212 ,  3.3333333 ,\n",
       "        3.4545455 ,  3.5757575 ,  3.6969697 ,  3.8181818 ,  3.939394  ,\n",
       "        4.060606  ,  4.181818  ,  4.3030305 ,  4.4242425 ,  4.5454545 ,\n",
       "        4.6666665 ,  4.787879  ,  4.909091  ,  5.030303  ,  5.151515  ,\n",
       "        5.272727  ,  5.3939395 ,  5.5151515 ,  5.636364  ,  5.757576  ,\n",
       "        5.878788  ,  6.        ,  6.121212  ,  6.242424  ,  6.3636365 ,\n",
       "        6.4848485 ,  6.6060605 ,  6.727273  ,  6.848485  ,  6.969697  ,\n",
       "        7.090909  ,  7.212121  ,  7.3333335 ,  7.4545455 ,  7.5757575 ,\n",
       "        7.69697   ,  7.818182  ,  7.939394  ,  8.060606  ,  8.181818  ,\n",
       "        8.30303   ,  8.424242  ,  8.545454  ,  8.666667  ,  8.787878  ,\n",
       "        8.909091  ,  9.030303  ,  9.151515  ,  9.272727  ,  9.39394   ,\n",
       "        9.515152  ,  9.636364  ,  9.757576  ,  9.878788  , 10.        ],\n",
       "      dtype=float32)>"
      ]
     },
     "execution_count": 12,
     "metadata": {},
     "output_type": "execute_result"
    }
   ],
   "source": [
    "model(x)"
   ]
  },
  {
   "cell_type": "code",
   "execution_count": 13,
   "metadata": {
    "colab": {
     "base_uri": "https://localhost:8080/",
     "height": 265
    },
    "id": "zCXdH7Sb_bSO",
    "outputId": "9e399c39-1a78-45a4-a871-3e7e9737cde9"
   },
   "outputs": [
    {
     "data": {
      "image/png": "[encoded data removed]",
      "text/plain": [
       "<Figure size 640x480 with 1 Axes>"
      ]
     },
     "metadata": {},
     "output_type": "display_data"
    }
   ],
   "source": [
    "plot_data(x,y,model(x))"
   ]
  },
  {
   "cell_type": "markdown",
   "metadata": {
    "id": "gmkrmVHVEF0K"
   },
   "source": [
    "**Initial Loss**: Loss calculated on applying initialized values"
   ]
  },
  {
   "cell_type": "code",
   "execution_count": 14,
   "metadata": {
    "colab": {
     "base_uri": "https://localhost:8080/"
    },
    "id": "R-4_jssREOmB",
    "outputId": "c24e0002-7a73-406b-febe-1c469a7fc0cc"
   },
   "outputs": [
    {
     "data": {
      "text/plain": [
       "<tf.Tensor: shape=(), dtype=float32, numpy=2.3602695>"
      ]
     },
     "execution_count": 14,
     "metadata": {},
     "output_type": "execute_result"
    }
   ],
   "source": [
    "loss(model(x),y)"
   ]
  },
  {
   "cell_type": "markdown",
   "metadata": {
    "id": "jjUa9mHPEasF"
   },
   "source": [
    "This is what is to be minimized."
   ]
  },
  {
   "cell_type": "markdown",
   "metadata": {
    "id": "0umJb5IGGewt"
   },
   "source": [
    "Initial Weights:"
   ]
  },
  {
   "cell_type": "code",
   "execution_count": 15,
   "metadata": {
    "colab": {
     "base_uri": "https://localhost:8080/"
    },
    "id": "luqAm4uwGd4s",
    "outputId": "52bee430-7b56-43a2-9455-2d78db0114ed"
   },
   "outputs": [
    {
     "name": "stdout",
     "output_type": "stream",
     "text": [
      "3.0 4.0\n"
     ]
    }
   ],
   "source": [
    "print(model.w.numpy(), model.b.numpy())"
   ]
  },
  {
   "cell_type": "markdown",
   "metadata": {
    "id": "z7PRtu74DvvO"
   },
   "source": [
    "Defining the training loop"
   ]
  },
  {
   "cell_type": "code",
   "execution_count": 16,
   "metadata": {
    "id": "auzi_X3WLQnx"
   },
   "outputs": [],
   "source": [
    "def train(model, inputs, outputs, learning_rate):\n",
    "  with tf.GradientTape() as t:\n",
    "    current_loss = loss(model(inputs),outputs)\n",
    "  dw, db = t.gradient(current_loss, [model.w, model.b])\n",
    "  model.w.assign_sub(learning_rate * dw)\n",
    "  model.b.assign_sub(learning_rate * db)\n",
    "  return current_loss;"
   ]
  },
  {
   "cell_type": "code",
   "execution_count": 17,
   "metadata": {
    "colab": {
     "base_uri": "https://localhost:8080/"
    },
    "id": "3zEOxU3t00HV",
    "outputId": "ce39f1dd-e62d-42aa-80fb-49d1607bf193"
   },
   "outputs": [
    {
     "name": "stdout",
     "output_type": "stream",
     "text": [
      "Epoch  0: w=2.73 b=4.20, loss=2.36027\n",
      "Epoch  1: w=2.53 b=4.36, loss=1.36081\n",
      "Epoch  2: w=2.39 b=4.49, loss=0.79156\n",
      "Epoch  3: w=2.28 b=4.59, loss=0.46455\n",
      "Epoch  4: w=2.20 b=4.67, loss=0.27503\n",
      "Epoch  5: w=2.15 b=4.74, loss=0.16421\n",
      "Epoch  6: w=2.11 b=4.79, loss=0.09884\n",
      "Epoch  7: w=2.08 b=4.83, loss=0.05994\n",
      "Epoch  8: w=2.06 b=4.87, loss=0.03660\n",
      "Epoch  9: w=2.04 b=4.89, loss=0.02250\n",
      "Epoch 10: w=2.03 b=4.91, loss=0.01390\n",
      "Epoch 11: w=2.02 b=4.93, loss=0.00864\n",
      "Epoch 12: w=2.02 b=4.95, loss=0.00539\n",
      "Epoch 13: w=2.01 b=4.96, loss=0.00338\n",
      "Epoch 14: w=2.01 b=4.96, loss=0.00212\n",
      "Epoch 15: w=2.01 b=4.97, loss=0.00134\n",
      "Epoch 16: w=2.00 b=4.98, loss=0.00084\n",
      "Epoch 17: w=2.00 b=4.98, loss=0.00053\n",
      "Epoch 18: w=2.00 b=4.99, loss=0.00034\n",
      "Epoch 19: w=2.00 b=4.99, loss=0.00022\n",
      "Epoch 20: w=2.00 b=4.99, loss=0.00014\n",
      "Epoch 21: w=2.00 b=4.99, loss=0.00009\n",
      "Epoch 22: w=2.00 b=4.99, loss=0.00006\n",
      "Epoch 23: w=2.00 b=5.00, loss=0.00004\n",
      "Epoch 24: w=2.00 b=5.00, loss=0.00002\n"
     ]
    }
   ],
   "source": [
    "model = Model()\n",
    "\n",
    "list_w = []\n",
    "list_b = []\n",
    "losses = []\n",
    "for epoch in range(25):\n",
    "  list_w.append(model.w.numpy())\n",
    "  list_b.append(model.b.numpy())\n",
    "  current_loss = train(model, x, y, learning_rate=0.1)\n",
    "  losses.append(current_loss)\n",
    "  print('Epoch %2d: w=%1.2f b=%1.2f, loss=%2.5f' % (epoch,model.w.numpy(),model.b.numpy(),current_loss))\n"
   ]
  },
  {
   "cell_type": "code",
   "execution_count": 18,
   "metadata": {
    "colab": {
     "base_uri": "https://localhost:8080/",
     "height": 265
    },
    "id": "zCXdH7Sb_bSO",
    "outputId": "9e399c39-1a78-45a4-a871-3e7e9737cde9"
   },
   "outputs": [
    {
     "data": {
      "image/png": "[encoded data removed]",
      "text/plain": [
       "<Figure size 640x480 with 1 Axes>"
      ]
     },
     "metadata": {},
     "output_type": "display_data"
    }
   ],
   "source": [
    "plot_data(x,y,model(x))"
   ]
  }
 ],
 "metadata": {
  "colab": {
   "provenance": []
  },
  "kernelspec": {
   "display_name": "Python 3 (ipykernel)",
   "language": "python",
   "name": "python3"
  },
  "language_info": {
   "codemirror_mode": {
    "name": "ipython",
    "version": 3
   },
   "file_extension": ".py",
   "mimetype": "text/x-python",
   "name": "python",
   "nbconvert_exporter": "python",
   "pygments_lexer": "ipython3",
   "version": "3.7.12"
  }
 },
 "nbformat": 4,
 "nbformat_minor": 1
}
