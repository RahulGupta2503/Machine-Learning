{
 "cells": [
  {
   "cell_type": "markdown",
   "metadata": {
    "id": "ffG9im8pttUo"
   },
   "source": [
    "# Keras - Functional API"
   ]
  },
  {
   "cell_type": "markdown",
   "metadata": {
    "id": "NUs0hyVUttUr"
   },
   "source": [
    "#### Necessary Imports "
   ]
  },
  {
   "cell_type": "code",
   "execution_count": 1,
   "metadata": {
    "executionInfo": {
     "elapsed": 6,
     "status": "ok",
     "timestamp": 1655386715778,
     "user": {
      "displayName": "Sanjay Sane",
      "userId": "14183293780199581235"
     },
     "user_tz": -330
    },
    "id": "Tonw_D4MttUs"
   },
   "outputs": [],
   "source": [
    "import pandas as pd\n",
    "import tensorflow as tf\n",
    "import numpy as np\n",
    "from tensorflow import keras\n",
    "from sklearn.metrics import log_loss, accuracy_score\n",
    "import matplotlib.pyplot as plt\n",
    "import os"
   ]
  },
  {
   "cell_type": "code",
   "execution_count": 2,
   "metadata": {
    "colab": {
     "base_uri": "https://localhost:8080/"
    },
    "executionInfo": {
     "elapsed": 6,
     "status": "ok",
     "timestamp": 1655386715779,
     "user": {
      "displayName": "Sanjay Sane",
      "userId": "14183293780199581235"
     },
     "user_tz": -330
    },
    "id": "pvd33T1QttUt",
    "outputId": "2dc380ef-3df4-4053-e013-64e44e365f10"
   },
   "outputs": [
    {
     "name": "stdout",
     "output_type": "stream",
     "text": [
      "2.10.0\n"
     ]
    }
   ],
   "source": [
    "print(tf.__version__)"
   ]
  },
  {
   "cell_type": "markdown",
   "metadata": {},
   "source": [
    "Dataset Source: https://archive.ics.uci.edu/ml/machine-learning-databases/breast-cancer-wisconsin/"
   ]
  },
  {
   "cell_type": "markdown",
   "metadata": {},
   "source": [
    "#### Setting up Working Directory "
   ]
  },
  {
   "cell_type": "code",
   "execution_count": 3,
   "metadata": {},
   "outputs": [],
   "source": [
    "os.chdir(r\"C:\\Training\\Academy\\Statistics (Python)\\Cases\\Wisconsin\")"
   ]
  },
  {
   "cell_type": "markdown",
   "metadata": {
    "id": "TUObWg5gttUu"
   },
   "source": [
    "Importing the file into **pandas** dataframe"
   ]
  },
  {
   "cell_type": "code",
   "execution_count": 4,
   "metadata": {
    "colab": {
     "base_uri": "https://localhost:8080/",
     "height": 206
    },
    "executionInfo": {
     "elapsed": 17,
     "status": "ok",
     "timestamp": 1655386716457,
     "user": {
      "displayName": "Sanjay Sane",
      "userId": "14183293780199581235"
     },
     "user_tz": -330
    },
    "id": "1opH9Uv1ttUu",
    "outputId": "81c97c28-6254-4766-ce8f-c66b30fd5c4d"
   },
   "outputs": [
    {
     "data": {
      "text/html": [
       "<div>\n",
       "<style scoped>\n",
       "    .dataframe tbody tr th:only-of-type {\n",
       "        vertical-align: middle;\n",
       "    }\n",
       "\n",
       "    .dataframe tbody tr th {\n",
       "        vertical-align: top;\n",
       "    }\n",
       "\n",
       "    .dataframe thead th {\n",
       "        text-align: right;\n",
       "    }\n",
       "</style>\n",
       "<table border=\"1\" class=\"dataframe\">\n",
       "  <thead>\n",
       "    <tr style=\"text-align: right;\">\n",
       "      <th></th>\n",
       "      <th>Code</th>\n",
       "      <th>Clump</th>\n",
       "      <th>UniCell_Size</th>\n",
       "      <th>Uni_CellShape</th>\n",
       "      <th>MargAdh</th>\n",
       "      <th>SEpith</th>\n",
       "      <th>BareN</th>\n",
       "      <th>BChromatin</th>\n",
       "      <th>NoemN</th>\n",
       "      <th>Mitoses</th>\n",
       "      <th>Class</th>\n",
       "    </tr>\n",
       "  </thead>\n",
       "  <tbody>\n",
       "    <tr>\n",
       "      <th>0</th>\n",
       "      <td>61634</td>\n",
       "      <td>5</td>\n",
       "      <td>4</td>\n",
       "      <td>3</td>\n",
       "      <td>1</td>\n",
       "      <td>2</td>\n",
       "      <td>2</td>\n",
       "      <td>2</td>\n",
       "      <td>3</td>\n",
       "      <td>1</td>\n",
       "      <td>Benign</td>\n",
       "    </tr>\n",
       "    <tr>\n",
       "      <th>1</th>\n",
       "      <td>63375</td>\n",
       "      <td>9</td>\n",
       "      <td>1</td>\n",
       "      <td>2</td>\n",
       "      <td>6</td>\n",
       "      <td>4</td>\n",
       "      <td>10</td>\n",
       "      <td>7</td>\n",
       "      <td>7</td>\n",
       "      <td>2</td>\n",
       "      <td>Malignant</td>\n",
       "    </tr>\n",
       "    <tr>\n",
       "      <th>2</th>\n",
       "      <td>76389</td>\n",
       "      <td>10</td>\n",
       "      <td>4</td>\n",
       "      <td>7</td>\n",
       "      <td>2</td>\n",
       "      <td>2</td>\n",
       "      <td>8</td>\n",
       "      <td>6</td>\n",
       "      <td>1</td>\n",
       "      <td>1</td>\n",
       "      <td>Malignant</td>\n",
       "    </tr>\n",
       "    <tr>\n",
       "      <th>3</th>\n",
       "      <td>95719</td>\n",
       "      <td>6</td>\n",
       "      <td>10</td>\n",
       "      <td>10</td>\n",
       "      <td>10</td>\n",
       "      <td>8</td>\n",
       "      <td>10</td>\n",
       "      <td>7</td>\n",
       "      <td>10</td>\n",
       "      <td>7</td>\n",
       "      <td>Malignant</td>\n",
       "    </tr>\n",
       "    <tr>\n",
       "      <th>4</th>\n",
       "      <td>128059</td>\n",
       "      <td>1</td>\n",
       "      <td>1</td>\n",
       "      <td>1</td>\n",
       "      <td>1</td>\n",
       "      <td>2</td>\n",
       "      <td>5</td>\n",
       "      <td>5</td>\n",
       "      <td>1</td>\n",
       "      <td>1</td>\n",
       "      <td>Benign</td>\n",
       "    </tr>\n",
       "  </tbody>\n",
       "</table>\n",
       "</div>"
      ],
      "text/plain": [
       "     Code  Clump  UniCell_Size  Uni_CellShape  MargAdh  SEpith  BareN  \\\n",
       "0   61634      5             4              3        1       2      2   \n",
       "1   63375      9             1              2        6       4     10   \n",
       "2   76389     10             4              7        2       2      8   \n",
       "3   95719      6            10             10       10       8     10   \n",
       "4  128059      1             1              1        1       2      5   \n",
       "\n",
       "   BChromatin  NoemN  Mitoses      Class  \n",
       "0           2      3        1     Benign  \n",
       "1           7      7        2  Malignant  \n",
       "2           6      1        1  Malignant  \n",
       "3           7     10        7  Malignant  \n",
       "4           5      1        1     Benign  "
      ]
     },
     "execution_count": 4,
     "metadata": {},
     "output_type": "execute_result"
    }
   ],
   "source": [
    "df = pd.read_csv(\"BreastCancer.csv\")\n",
    "df.head()"
   ]
  },
  {
   "cell_type": "markdown",
   "metadata": {
    "id": "qYe9HkVlttUu"
   },
   "source": [
    "For the column **Class** which is a response variable, the hot encoding / dummying needs to be done."
   ]
  },
  {
   "cell_type": "code",
   "execution_count": 5,
   "metadata": {
    "colab": {
     "base_uri": "https://localhost:8080/",
     "height": 250
    },
    "executionInfo": {
     "elapsed": 15,
     "status": "ok",
     "timestamp": 1655386716457,
     "user": {
      "displayName": "Sanjay Sane",
      "userId": "14183293780199581235"
     },
     "user_tz": -330
    },
    "id": "4y1N9iCjttUv",
    "outputId": "870bc3d2-4056-4504-d22b-e617e681c0e0"
   },
   "outputs": [
    {
     "data": {
      "text/html": [
       "<div>\n",
       "<style scoped>\n",
       "    .dataframe tbody tr th:only-of-type {\n",
       "        vertical-align: middle;\n",
       "    }\n",
       "\n",
       "    .dataframe tbody tr th {\n",
       "        vertical-align: top;\n",
       "    }\n",
       "\n",
       "    .dataframe thead th {\n",
       "        text-align: right;\n",
       "    }\n",
       "</style>\n",
       "<table border=\"1\" class=\"dataframe\">\n",
       "  <thead>\n",
       "    <tr style=\"text-align: right;\">\n",
       "      <th></th>\n",
       "      <th>Code</th>\n",
       "      <th>Clump</th>\n",
       "      <th>UniCell_Size</th>\n",
       "      <th>Uni_CellShape</th>\n",
       "      <th>MargAdh</th>\n",
       "      <th>SEpith</th>\n",
       "      <th>BareN</th>\n",
       "      <th>BChromatin</th>\n",
       "      <th>NoemN</th>\n",
       "      <th>Mitoses</th>\n",
       "      <th>Class_Malignant</th>\n",
       "    </tr>\n",
       "  </thead>\n",
       "  <tbody>\n",
       "    <tr>\n",
       "      <th>0</th>\n",
       "      <td>61634</td>\n",
       "      <td>5</td>\n",
       "      <td>4</td>\n",
       "      <td>3</td>\n",
       "      <td>1</td>\n",
       "      <td>2</td>\n",
       "      <td>2</td>\n",
       "      <td>2</td>\n",
       "      <td>3</td>\n",
       "      <td>1</td>\n",
       "      <td>0</td>\n",
       "    </tr>\n",
       "    <tr>\n",
       "      <th>1</th>\n",
       "      <td>63375</td>\n",
       "      <td>9</td>\n",
       "      <td>1</td>\n",
       "      <td>2</td>\n",
       "      <td>6</td>\n",
       "      <td>4</td>\n",
       "      <td>10</td>\n",
       "      <td>7</td>\n",
       "      <td>7</td>\n",
       "      <td>2</td>\n",
       "      <td>1</td>\n",
       "    </tr>\n",
       "    <tr>\n",
       "      <th>2</th>\n",
       "      <td>76389</td>\n",
       "      <td>10</td>\n",
       "      <td>4</td>\n",
       "      <td>7</td>\n",
       "      <td>2</td>\n",
       "      <td>2</td>\n",
       "      <td>8</td>\n",
       "      <td>6</td>\n",
       "      <td>1</td>\n",
       "      <td>1</td>\n",
       "      <td>1</td>\n",
       "    </tr>\n",
       "    <tr>\n",
       "      <th>3</th>\n",
       "      <td>95719</td>\n",
       "      <td>6</td>\n",
       "      <td>10</td>\n",
       "      <td>10</td>\n",
       "      <td>10</td>\n",
       "      <td>8</td>\n",
       "      <td>10</td>\n",
       "      <td>7</td>\n",
       "      <td>10</td>\n",
       "      <td>7</td>\n",
       "      <td>1</td>\n",
       "    </tr>\n",
       "    <tr>\n",
       "      <th>4</th>\n",
       "      <td>128059</td>\n",
       "      <td>1</td>\n",
       "      <td>1</td>\n",
       "      <td>1</td>\n",
       "      <td>1</td>\n",
       "      <td>2</td>\n",
       "      <td>5</td>\n",
       "      <td>5</td>\n",
       "      <td>1</td>\n",
       "      <td>1</td>\n",
       "      <td>0</td>\n",
       "    </tr>\n",
       "  </tbody>\n",
       "</table>\n",
       "</div>"
      ],
      "text/plain": [
       "     Code  Clump  UniCell_Size  Uni_CellShape  MargAdh  SEpith  BareN  \\\n",
       "0   61634      5             4              3        1       2      2   \n",
       "1   63375      9             1              2        6       4     10   \n",
       "2   76389     10             4              7        2       2      8   \n",
       "3   95719      6            10             10       10       8     10   \n",
       "4  128059      1             1              1        1       2      5   \n",
       "\n",
       "   BChromatin  NoemN  Mitoses  Class_Malignant  \n",
       "0           2      3        1                0  \n",
       "1           7      7        2                1  \n",
       "2           6      1        1                1  \n",
       "3           7     10        7                1  \n",
       "4           5      1        1                0  "
      ]
     },
     "execution_count": 5,
     "metadata": {},
     "output_type": "execute_result"
    }
   ],
   "source": [
    "dum_df = pd.get_dummies(df)\n",
    "dum_df.drop(['Class_Benign'],axis=\"columns\",inplace = True)\n",
    "dum_df.head()"
   ]
  },
  {
   "cell_type": "code",
   "execution_count": 6,
   "metadata": {
    "colab": {
     "base_uri": "https://localhost:8080/"
    },
    "executionInfo": {
     "elapsed": 15,
     "status": "ok",
     "timestamp": 1655386716458,
     "user": {
      "displayName": "Sanjay Sane",
      "userId": "14183293780199581235"
     },
     "user_tz": -330
    },
    "id": "7j2pIQQ3ttUv",
    "outputId": "9d04cea9-f94e-463e-ef2a-1275af73a59b"
   },
   "outputs": [
    {
     "data": {
      "text/plain": [
       "(699, 11)"
      ]
     },
     "execution_count": 6,
     "metadata": {},
     "output_type": "execute_result"
    }
   ],
   "source": [
    "dum_df.shape"
   ]
  },
  {
   "cell_type": "markdown",
   "metadata": {
    "id": "YoF5s8FsttUw"
   },
   "source": [
    "We now create two separate objects for feature variables **X** and output variable **y**"
   ]
  },
  {
   "cell_type": "code",
   "execution_count": 7,
   "metadata": {
    "executionInfo": {
     "elapsed": 13,
     "status": "ok",
     "timestamp": 1655386716458,
     "user": {
      "displayName": "Sanjay Sane",
      "userId": "14183293780199581235"
     },
     "user_tz": -330
    },
    "id": "TLH2rpR2ttUw"
   },
   "outputs": [],
   "source": [
    "X = dum_df.iloc[:,1:10]\n",
    "y = dum_df.iloc[:,10]"
   ]
  },
  {
   "cell_type": "code",
   "execution_count": 8,
   "metadata": {
    "colab": {
     "base_uri": "https://localhost:8080/",
     "height": 206
    },
    "executionInfo": {
     "elapsed": 13,
     "status": "ok",
     "timestamp": 1655386716458,
     "user": {
      "displayName": "Sanjay Sane",
      "userId": "14183293780199581235"
     },
     "user_tz": -330
    },
    "id": "tBe5Md5uttUx",
    "outputId": "08199161-6eba-4c1e-b556-d9674088fb30"
   },
   "outputs": [
    {
     "data": {
      "text/html": [
       "<div>\n",
       "<style scoped>\n",
       "    .dataframe tbody tr th:only-of-type {\n",
       "        vertical-align: middle;\n",
       "    }\n",
       "\n",
       "    .dataframe tbody tr th {\n",
       "        vertical-align: top;\n",
       "    }\n",
       "\n",
       "    .dataframe thead th {\n",
       "        text-align: right;\n",
       "    }\n",
       "</style>\n",
       "<table border=\"1\" class=\"dataframe\">\n",
       "  <thead>\n",
       "    <tr style=\"text-align: right;\">\n",
       "      <th></th>\n",
       "      <th>Clump</th>\n",
       "      <th>UniCell_Size</th>\n",
       "      <th>Uni_CellShape</th>\n",
       "      <th>MargAdh</th>\n",
       "      <th>SEpith</th>\n",
       "      <th>BareN</th>\n",
       "      <th>BChromatin</th>\n",
       "      <th>NoemN</th>\n",
       "      <th>Mitoses</th>\n",
       "    </tr>\n",
       "  </thead>\n",
       "  <tbody>\n",
       "    <tr>\n",
       "      <th>0</th>\n",
       "      <td>5</td>\n",
       "      <td>4</td>\n",
       "      <td>3</td>\n",
       "      <td>1</td>\n",
       "      <td>2</td>\n",
       "      <td>2</td>\n",
       "      <td>2</td>\n",
       "      <td>3</td>\n",
       "      <td>1</td>\n",
       "    </tr>\n",
       "    <tr>\n",
       "      <th>1</th>\n",
       "      <td>9</td>\n",
       "      <td>1</td>\n",
       "      <td>2</td>\n",
       "      <td>6</td>\n",
       "      <td>4</td>\n",
       "      <td>10</td>\n",
       "      <td>7</td>\n",
       "      <td>7</td>\n",
       "      <td>2</td>\n",
       "    </tr>\n",
       "    <tr>\n",
       "      <th>2</th>\n",
       "      <td>10</td>\n",
       "      <td>4</td>\n",
       "      <td>7</td>\n",
       "      <td>2</td>\n",
       "      <td>2</td>\n",
       "      <td>8</td>\n",
       "      <td>6</td>\n",
       "      <td>1</td>\n",
       "      <td>1</td>\n",
       "    </tr>\n",
       "    <tr>\n",
       "      <th>3</th>\n",
       "      <td>6</td>\n",
       "      <td>10</td>\n",
       "      <td>10</td>\n",
       "      <td>10</td>\n",
       "      <td>8</td>\n",
       "      <td>10</td>\n",
       "      <td>7</td>\n",
       "      <td>10</td>\n",
       "      <td>7</td>\n",
       "    </tr>\n",
       "    <tr>\n",
       "      <th>4</th>\n",
       "      <td>1</td>\n",
       "      <td>1</td>\n",
       "      <td>1</td>\n",
       "      <td>1</td>\n",
       "      <td>2</td>\n",
       "      <td>5</td>\n",
       "      <td>5</td>\n",
       "      <td>1</td>\n",
       "      <td>1</td>\n",
       "    </tr>\n",
       "  </tbody>\n",
       "</table>\n",
       "</div>"
      ],
      "text/plain": [
       "   Clump  UniCell_Size  Uni_CellShape  MargAdh  SEpith  BareN  BChromatin  \\\n",
       "0      5             4              3        1       2      2           2   \n",
       "1      9             1              2        6       4     10           7   \n",
       "2     10             4              7        2       2      8           6   \n",
       "3      6            10             10       10       8     10           7   \n",
       "4      1             1              1        1       2      5           5   \n",
       "\n",
       "   NoemN  Mitoses  \n",
       "0      3        1  \n",
       "1      7        2  \n",
       "2      1        1  \n",
       "3     10        7  \n",
       "4      1        1  "
      ]
     },
     "execution_count": 8,
     "metadata": {},
     "output_type": "execute_result"
    }
   ],
   "source": [
    "X.head()"
   ]
  },
  {
   "cell_type": "code",
   "execution_count": 9,
   "metadata": {
    "colab": {
     "base_uri": "https://localhost:8080/"
    },
    "executionInfo": {
     "elapsed": 12,
     "status": "ok",
     "timestamp": 1655386716459,
     "user": {
      "displayName": "Sanjay Sane",
      "userId": "14183293780199581235"
     },
     "user_tz": -330
    },
    "id": "DAP-WExIttUx",
    "outputId": "6a9da90e-bb64-4bf6-9f6d-17668007c0da"
   },
   "outputs": [
    {
     "data": {
      "text/plain": [
       "0    0\n",
       "1    1\n",
       "2    1\n",
       "3    1\n",
       "4    0\n",
       "Name: Class_Malignant, dtype: uint8"
      ]
     },
     "execution_count": 9,
     "metadata": {},
     "output_type": "execute_result"
    }
   ],
   "source": [
    "y.head()"
   ]
  },
  {
   "cell_type": "markdown",
   "metadata": {
    "id": "BxXOjM0uttUy"
   },
   "source": [
    "We now, split the data into train and test"
   ]
  },
  {
   "cell_type": "code",
   "execution_count": 10,
   "metadata": {
    "executionInfo": {
     "elapsed": 10,
     "status": "ok",
     "timestamp": 1655386716459,
     "user": {
      "displayName": "Sanjay Sane",
      "userId": "14183293780199581235"
     },
     "user_tz": -330
    },
    "id": "o111DhT6ttUy"
   },
   "outputs": [],
   "source": [
    "from sklearn.model_selection import train_test_split \n",
    "X_train, X_test, y_train, y_test = train_test_split(X, y, test_size = 0.3, \n",
    "                                                    random_state=2019,stratify=y)"
   ]
  },
  {
   "cell_type": "markdown",
   "metadata": {
    "id": "4Hx805ClttUx"
   },
   "source": [
    "#### Scaling the data"
   ]
  },
  {
   "cell_type": "code",
   "execution_count": 11,
   "metadata": {
    "executionInfo": {
     "elapsed": 4,
     "status": "ok",
     "timestamp": 1655386719199,
     "user": {
      "displayName": "Sanjay Sane",
      "userId": "14183293780199581235"
     },
     "user_tz": -330
    },
    "id": "_EAl0lpjttUy"
   },
   "outputs": [],
   "source": [
    "from sklearn.preprocessing import MinMaxScaler\n",
    "scaler = MinMaxScaler()\n",
    "X_trn_scl = scaler.fit_transform(X_train) \n",
    "X_tst_scl = scaler.transform(X_test)   "
   ]
  },
  {
   "cell_type": "code",
   "execution_count": 12,
   "metadata": {
    "colab": {
     "base_uri": "https://localhost:8080/"
    },
    "executionInfo": {
     "elapsed": 602,
     "status": "ok",
     "timestamp": 1655386730002,
     "user": {
      "displayName": "Sanjay Sane",
      "userId": "14183293780199581235"
     },
     "user_tz": -330
    },
    "id": "vY2TQK1ittUy",
    "outputId": "b520deb2-19c7-4b3a-987e-63d84c5dff38"
   },
   "outputs": [
    {
     "data": {
      "text/plain": [
       "((489, 9), (489,))"
      ]
     },
     "execution_count": 12,
     "metadata": {},
     "output_type": "execute_result"
    }
   ],
   "source": [
    "(X_trn_scl.shape, y_train.shape)"
   ]
  },
  {
   "cell_type": "markdown",
   "metadata": {},
   "source": [
    "### Sequential Network: "
   ]
  },
  {
   "cell_type": "markdown",
   "metadata": {
    "id": "31YjW-JittUz"
   },
   "source": [
    "#### Model Definition"
   ]
  },
  {
   "cell_type": "markdown",
   "metadata": {
    "id": "EolhjSopttUz"
   },
   "source": [
    "Using **Sequential API**"
   ]
  },
  {
   "cell_type": "markdown",
   "metadata": {
    "id": "HFAijtXottUz"
   },
   "source": [
    "tf.random.set_seed(2019) <br>\n",
    "model = tf.keras.models.Sequential([ <br>\n",
    "&nbsp;&nbsp;&nbsp;&nbsp;&nbsp;&nbsp;&nbsp;&nbsp;tf.keras.layers.Dense(6, activation='relu'),<br>\n",
    "&nbsp;&nbsp;&nbsp;&nbsp;&nbsp;&nbsp;&nbsp;&nbsp;tf.keras.layers.Dense(4, activation='relu'), <br>\n",
    "&nbsp;&nbsp;&nbsp;&nbsp;&nbsp;&nbsp;&nbsp;&nbsp;tf.keras.layers.Dense(1, activation='sigmoid')  <br>\n",
    "])"
   ]
  },
  {
   "cell_type": "markdown",
   "metadata": {
    "id": "IUE1bynEttU0"
   },
   "source": [
    "Using **Functional API**"
   ]
  },
  {
   "cell_type": "code",
   "execution_count": 13,
   "metadata": {
    "executionInfo": {
     "elapsed": 427,
     "status": "ok",
     "timestamp": 1655387229144,
     "user": {
      "displayName": "Sanjay Sane",
      "userId": "14183293780199581235"
     },
     "user_tz": -330
    },
    "id": "y_Qg2lCvttU0"
   },
   "outputs": [],
   "source": [
    "tf.random.set_seed(2019)\n",
    "inputs = keras.Input(shape=(9,))\n",
    "x = tf.keras.layers.Dense(6, activation=\"relu\")(inputs)\n",
    "x = tf.keras.layers.Dense(4, activation=\"relu\")(x)\n",
    "outputs = tf.keras.layers.Dense(1, activation='sigmoid')(x)\n",
    "model = tf.keras.Model(inputs=inputs, outputs=outputs)"
   ]
  },
  {
   "cell_type": "code",
   "execution_count": 14,
   "metadata": {
    "executionInfo": {
     "elapsed": 417,
     "status": "ok",
     "timestamp": 1655387235646,
     "user": {
      "displayName": "Sanjay Sane",
      "userId": "14183293780199581235"
     },
     "user_tz": -330
    },
    "id": "7jpedYrJttU0"
   },
   "outputs": [],
   "source": [
    "model.compile(optimizer='sgd', loss='binary_crossentropy',metrics=['accuracy'])"
   ]
  },
  {
   "cell_type": "markdown",
   "metadata": {
    "id": "YmEceOsQttU0"
   },
   "source": [
    "Conversion of objects **y_train** and **y_test** into numpy array for making those compatible with *TensorFlow*"
   ]
  },
  {
   "cell_type": "code",
   "execution_count": 15,
   "metadata": {
    "executionInfo": {
     "elapsed": 1,
     "status": "ok",
     "timestamp": 1655387236274,
     "user": {
      "displayName": "Sanjay Sane",
      "userId": "14183293780199581235"
     },
     "user_tz": -330
    },
    "id": "R6JuPwKpttU0"
   },
   "outputs": [],
   "source": [
    "y_train = y_train.values\n",
    "y_test = y_test.values"
   ]
  },
  {
   "cell_type": "markdown",
   "metadata": {
    "id": "dPxSTAfittU0"
   },
   "source": [
    "**Model Fitting:**"
   ]
  },
  {
   "cell_type": "code",
   "execution_count": 16,
   "metadata": {
    "id": "i3aZALCqttU0"
   },
   "outputs": [
    {
     "name": "stdout",
     "output_type": "stream",
     "text": [
      "Epoch 1/100\n",
      "16/16 - 3s - loss: 0.7836 - accuracy: 0.3047 - val_loss: 0.7018 - val_accuracy: 0.3524 - 3s/epoch - 187ms/step\n",
      "Epoch 2/100\n",
      "16/16 - 0s - loss: 0.7003 - accuracy: 0.3395 - val_loss: 0.6549 - val_accuracy: 0.3524 - 75ms/epoch - 5ms/step\n",
      "Epoch 3/100\n",
      "16/16 - 0s - loss: 0.6576 - accuracy: 0.3476 - val_loss: 0.6312 - val_accuracy: 0.3857 - 73ms/epoch - 5ms/step\n",
      "Epoch 4/100\n",
      "16/16 - 0s - loss: 0.6318 - accuracy: 0.4417 - val_loss: 0.6116 - val_accuracy: 0.5095 - 71ms/epoch - 4ms/step\n",
      "Epoch 5/100\n",
      "16/16 - 0s - loss: 0.6106 - accuracy: 0.5317 - val_loss: 0.5931 - val_accuracy: 0.6571 - 73ms/epoch - 5ms/step\n",
      "Epoch 6/100\n",
      "16/16 - 0s - loss: 0.5923 - accuracy: 0.6789 - val_loss: 0.5739 - val_accuracy: 0.7429 - 75ms/epoch - 5ms/step\n",
      "Epoch 7/100\n",
      "16/16 - 0s - loss: 0.5748 - accuracy: 0.7362 - val_loss: 0.5563 - val_accuracy: 0.8095 - 69ms/epoch - 4ms/step\n",
      "Epoch 8/100\n",
      "16/16 - 0s - loss: 0.5578 - accuracy: 0.8548 - val_loss: 0.5394 - val_accuracy: 0.8619 - 74ms/epoch - 5ms/step\n",
      "Epoch 9/100\n",
      "16/16 - 0s - loss: 0.5427 - accuracy: 0.8855 - val_loss: 0.5245 - val_accuracy: 0.8905 - 69ms/epoch - 4ms/step\n",
      "Epoch 10/100\n",
      "16/16 - 0s - loss: 0.5291 - accuracy: 0.8916 - val_loss: 0.5112 - val_accuracy: 0.8857 - 78ms/epoch - 5ms/step\n",
      "Epoch 11/100\n",
      "16/16 - 0s - loss: 0.5165 - accuracy: 0.8957 - val_loss: 0.4992 - val_accuracy: 0.9143 - 77ms/epoch - 5ms/step\n",
      "Epoch 12/100\n",
      "16/16 - 0s - loss: 0.5051 - accuracy: 0.9059 - val_loss: 0.4879 - val_accuracy: 0.9333 - 78ms/epoch - 5ms/step\n",
      "Epoch 13/100\n",
      "16/16 - 0s - loss: 0.4938 - accuracy: 0.9223 - val_loss: 0.4769 - val_accuracy: 0.9381 - 76ms/epoch - 5ms/step\n",
      "Epoch 14/100\n",
      "16/16 - 0s - loss: 0.4832 - accuracy: 0.9223 - val_loss: 0.4663 - val_accuracy: 0.9381 - 79ms/epoch - 5ms/step\n",
      "Epoch 15/100\n",
      "16/16 - 0s - loss: 0.4728 - accuracy: 0.9223 - val_loss: 0.4561 - val_accuracy: 0.9381 - 62ms/epoch - 4ms/step\n",
      "Epoch 16/100\n",
      "16/16 - 0s - loss: 0.4630 - accuracy: 0.9264 - val_loss: 0.4463 - val_accuracy: 0.9429 - 72ms/epoch - 4ms/step\n",
      "Epoch 17/100\n",
      "16/16 - 0s - loss: 0.4534 - accuracy: 0.9264 - val_loss: 0.4369 - val_accuracy: 0.9476 - 68ms/epoch - 4ms/step\n",
      "Epoch 18/100\n",
      "16/16 - 0s - loss: 0.4439 - accuracy: 0.9284 - val_loss: 0.4275 - val_accuracy: 0.9476 - 65ms/epoch - 4ms/step\n",
      "Epoch 19/100\n",
      "16/16 - 0s - loss: 0.4347 - accuracy: 0.9305 - val_loss: 0.4181 - val_accuracy: 0.9476 - 73ms/epoch - 5ms/step\n",
      "Epoch 20/100\n",
      "16/16 - 0s - loss: 0.4262 - accuracy: 0.9346 - val_loss: 0.4092 - val_accuracy: 0.9524 - 70ms/epoch - 4ms/step\n",
      "Epoch 21/100\n",
      "16/16 - 0s - loss: 0.4181 - accuracy: 0.9305 - val_loss: 0.4012 - val_accuracy: 0.9524 - 69ms/epoch - 4ms/step\n",
      "Epoch 22/100\n",
      "16/16 - 0s - loss: 0.4095 - accuracy: 0.9387 - val_loss: 0.3926 - val_accuracy: 0.9524 - 75ms/epoch - 5ms/step\n",
      "Epoch 23/100\n",
      "16/16 - 0s - loss: 0.4018 - accuracy: 0.9407 - val_loss: 0.3854 - val_accuracy: 0.9571 - 94ms/epoch - 6ms/step\n",
      "Epoch 24/100\n",
      "16/16 - 0s - loss: 0.3943 - accuracy: 0.9387 - val_loss: 0.3773 - val_accuracy: 0.9571 - 82ms/epoch - 5ms/step\n",
      "Epoch 25/100\n",
      "16/16 - 0s - loss: 0.3872 - accuracy: 0.9427 - val_loss: 0.3697 - val_accuracy: 0.9619 - 65ms/epoch - 4ms/step\n",
      "Epoch 26/100\n",
      "16/16 - 0s - loss: 0.3799 - accuracy: 0.9427 - val_loss: 0.3644 - val_accuracy: 0.9667 - 72ms/epoch - 5ms/step\n",
      "Epoch 27/100\n",
      "16/16 - 0s - loss: 0.3741 - accuracy: 0.9427 - val_loss: 0.3567 - val_accuracy: 0.9667 - 77ms/epoch - 5ms/step\n",
      "Epoch 28/100\n",
      "16/16 - 0s - loss: 0.3671 - accuracy: 0.9387 - val_loss: 0.3493 - val_accuracy: 0.9667 - 75ms/epoch - 5ms/step\n",
      "Epoch 29/100\n",
      "16/16 - 0s - loss: 0.3609 - accuracy: 0.9407 - val_loss: 0.3433 - val_accuracy: 0.9714 - 75ms/epoch - 5ms/step\n",
      "Epoch 30/100\n",
      "16/16 - 0s - loss: 0.3544 - accuracy: 0.9427 - val_loss: 0.3374 - val_accuracy: 0.9762 - 60ms/epoch - 4ms/step\n",
      "Epoch 31/100\n",
      "16/16 - 0s - loss: 0.3486 - accuracy: 0.9387 - val_loss: 0.3310 - val_accuracy: 0.9762 - 68ms/epoch - 4ms/step\n",
      "Epoch 32/100\n",
      "16/16 - 0s - loss: 0.3428 - accuracy: 0.9387 - val_loss: 0.3249 - val_accuracy: 0.9762 - 73ms/epoch - 5ms/step\n",
      "Epoch 33/100\n",
      "16/16 - 0s - loss: 0.3375 - accuracy: 0.9407 - val_loss: 0.3197 - val_accuracy: 0.9762 - 64ms/epoch - 4ms/step\n",
      "Epoch 34/100\n",
      "16/16 - 0s - loss: 0.3320 - accuracy: 0.9407 - val_loss: 0.3142 - val_accuracy: 0.9762 - 65ms/epoch - 4ms/step\n",
      "Epoch 35/100\n",
      "16/16 - 0s - loss: 0.3271 - accuracy: 0.9387 - val_loss: 0.3087 - val_accuracy: 0.9762 - 72ms/epoch - 5ms/step\n",
      "Epoch 36/100\n",
      "16/16 - 0s - loss: 0.3221 - accuracy: 0.9387 - val_loss: 0.3041 - val_accuracy: 0.9762 - 68ms/epoch - 4ms/step\n",
      "Epoch 37/100\n",
      "16/16 - 0s - loss: 0.3176 - accuracy: 0.9387 - val_loss: 0.2989 - val_accuracy: 0.9762 - 62ms/epoch - 4ms/step\n",
      "Epoch 38/100\n",
      "16/16 - 0s - loss: 0.3129 - accuracy: 0.9407 - val_loss: 0.2941 - val_accuracy: 0.9762 - 64ms/epoch - 4ms/step\n",
      "Epoch 39/100\n",
      "16/16 - 0s - loss: 0.3086 - accuracy: 0.9407 - val_loss: 0.2894 - val_accuracy: 0.9762 - 65ms/epoch - 4ms/step\n",
      "Epoch 40/100\n",
      "16/16 - 0s - loss: 0.3044 - accuracy: 0.9407 - val_loss: 0.2874 - val_accuracy: 0.9810 - 63ms/epoch - 4ms/step\n",
      "Epoch 41/100\n",
      "16/16 - 0s - loss: 0.3010 - accuracy: 0.9427 - val_loss: 0.2832 - val_accuracy: 0.9810 - 62ms/epoch - 4ms/step\n",
      "Epoch 42/100\n",
      "16/16 - 0s - loss: 0.2970 - accuracy: 0.9407 - val_loss: 0.2787 - val_accuracy: 0.9810 - 66ms/epoch - 4ms/step\n",
      "Epoch 43/100\n",
      "16/16 - 0s - loss: 0.2929 - accuracy: 0.9427 - val_loss: 0.2738 - val_accuracy: 0.9810 - 67ms/epoch - 4ms/step\n",
      "Epoch 44/100\n",
      "16/16 - 0s - loss: 0.2895 - accuracy: 0.9468 - val_loss: 0.2700 - val_accuracy: 0.9810 - 64ms/epoch - 4ms/step\n",
      "Epoch 45/100\n",
      "16/16 - 0s - loss: 0.2855 - accuracy: 0.9448 - val_loss: 0.2665 - val_accuracy: 0.9810 - 69ms/epoch - 4ms/step\n",
      "Epoch 46/100\n",
      "16/16 - 0s - loss: 0.2825 - accuracy: 0.9427 - val_loss: 0.2628 - val_accuracy: 0.9810 - 70ms/epoch - 4ms/step\n",
      "Epoch 47/100\n",
      "16/16 - 0s - loss: 0.2788 - accuracy: 0.9448 - val_loss: 0.2594 - val_accuracy: 0.9810 - 68ms/epoch - 4ms/step\n",
      "Epoch 48/100\n",
      "16/16 - 0s - loss: 0.2757 - accuracy: 0.9427 - val_loss: 0.2565 - val_accuracy: 0.9810 - 63ms/epoch - 4ms/step\n",
      "Epoch 49/100\n",
      "16/16 - 0s - loss: 0.2730 - accuracy: 0.9427 - val_loss: 0.2533 - val_accuracy: 0.9810 - 70ms/epoch - 4ms/step\n",
      "Epoch 50/100\n",
      "16/16 - 0s - loss: 0.2694 - accuracy: 0.9468 - val_loss: 0.2495 - val_accuracy: 0.9810 - 67ms/epoch - 4ms/step\n",
      "Epoch 51/100\n",
      "16/16 - 0s - loss: 0.2663 - accuracy: 0.9468 - val_loss: 0.2462 - val_accuracy: 0.9810 - 61ms/epoch - 4ms/step\n",
      "Epoch 52/100\n",
      "16/16 - 0s - loss: 0.2638 - accuracy: 0.9448 - val_loss: 0.2438 - val_accuracy: 0.9810 - 70ms/epoch - 4ms/step\n",
      "Epoch 53/100\n",
      "16/16 - 0s - loss: 0.2609 - accuracy: 0.9468 - val_loss: 0.2422 - val_accuracy: 0.9762 - 67ms/epoch - 4ms/step\n",
      "Epoch 54/100\n",
      "16/16 - 0s - loss: 0.2587 - accuracy: 0.9489 - val_loss: 0.2392 - val_accuracy: 0.9762 - 69ms/epoch - 4ms/step\n",
      "Epoch 55/100\n",
      "16/16 - 0s - loss: 0.2553 - accuracy: 0.9509 - val_loss: 0.2366 - val_accuracy: 0.9762 - 67ms/epoch - 4ms/step\n",
      "Epoch 56/100\n",
      "16/16 - 0s - loss: 0.2527 - accuracy: 0.9509 - val_loss: 0.2345 - val_accuracy: 0.9762 - 63ms/epoch - 4ms/step\n",
      "Epoch 57/100\n",
      "16/16 - 0s - loss: 0.2503 - accuracy: 0.9509 - val_loss: 0.2309 - val_accuracy: 0.9762 - 71ms/epoch - 4ms/step\n",
      "Epoch 58/100\n",
      "16/16 - 0s - loss: 0.2478 - accuracy: 0.9509 - val_loss: 0.2281 - val_accuracy: 0.9762 - 70ms/epoch - 4ms/step\n",
      "Epoch 59/100\n",
      "16/16 - 0s - loss: 0.2455 - accuracy: 0.9530 - val_loss: 0.2251 - val_accuracy: 0.9810 - 67ms/epoch - 4ms/step\n",
      "Epoch 60/100\n",
      "16/16 - 0s - loss: 0.2435 - accuracy: 0.9509 - val_loss: 0.2225 - val_accuracy: 0.9810 - 66ms/epoch - 4ms/step\n",
      "Epoch 61/100\n",
      "16/16 - 0s - loss: 0.2413 - accuracy: 0.9509 - val_loss: 0.2209 - val_accuracy: 0.9762 - 72ms/epoch - 5ms/step\n",
      "Epoch 62/100\n",
      "16/16 - 0s - loss: 0.2392 - accuracy: 0.9530 - val_loss: 0.2200 - val_accuracy: 0.9762 - 69ms/epoch - 4ms/step\n",
      "Epoch 63/100\n",
      "16/16 - 0s - loss: 0.2371 - accuracy: 0.9530 - val_loss: 0.2171 - val_accuracy: 0.9762 - 67ms/epoch - 4ms/step\n",
      "Epoch 64/100\n",
      "16/16 - 0s - loss: 0.2346 - accuracy: 0.9530 - val_loss: 0.2139 - val_accuracy: 0.9810 - 69ms/epoch - 4ms/step\n",
      "Epoch 65/100\n",
      "16/16 - 0s - loss: 0.2331 - accuracy: 0.9509 - val_loss: 0.2145 - val_accuracy: 0.9667 - 70ms/epoch - 4ms/step\n",
      "Epoch 66/100\n",
      "16/16 - 0s - loss: 0.2312 - accuracy: 0.9530 - val_loss: 0.2106 - val_accuracy: 0.9762 - 67ms/epoch - 4ms/step\n",
      "Epoch 67/100\n",
      "16/16 - 0s - loss: 0.2296 - accuracy: 0.9530 - val_loss: 0.2094 - val_accuracy: 0.9762 - 67ms/epoch - 4ms/step\n",
      "Epoch 68/100\n",
      "16/16 - 0s - loss: 0.2272 - accuracy: 0.9530 - val_loss: 0.2085 - val_accuracy: 0.9667 - 61ms/epoch - 4ms/step\n",
      "Epoch 69/100\n",
      "16/16 - 0s - loss: 0.2254 - accuracy: 0.9530 - val_loss: 0.2072 - val_accuracy: 0.9667 - 56ms/epoch - 4ms/step\n",
      "Epoch 70/100\n",
      "16/16 - 0s - loss: 0.2236 - accuracy: 0.9550 - val_loss: 0.2047 - val_accuracy: 0.9667 - 62ms/epoch - 4ms/step\n",
      "Epoch 71/100\n",
      "16/16 - 0s - loss: 0.2220 - accuracy: 0.9530 - val_loss: 0.2021 - val_accuracy: 0.9762 - 72ms/epoch - 5ms/step\n",
      "Epoch 72/100\n",
      "16/16 - 0s - loss: 0.2203 - accuracy: 0.9530 - val_loss: 0.1993 - val_accuracy: 0.9762 - 71ms/epoch - 4ms/step\n",
      "Epoch 73/100\n",
      "16/16 - 0s - loss: 0.2187 - accuracy: 0.9550 - val_loss: 0.1990 - val_accuracy: 0.9714 - 69ms/epoch - 4ms/step\n",
      "Epoch 74/100\n",
      "16/16 - 0s - loss: 0.2172 - accuracy: 0.9530 - val_loss: 0.1975 - val_accuracy: 0.9714 - 61ms/epoch - 4ms/step\n",
      "Epoch 75/100\n",
      "16/16 - 0s - loss: 0.2154 - accuracy: 0.9530 - val_loss: 0.1953 - val_accuracy: 0.9714 - 66ms/epoch - 4ms/step\n",
      "Epoch 76/100\n",
      "16/16 - 0s - loss: 0.2138 - accuracy: 0.9571 - val_loss: 0.1940 - val_accuracy: 0.9667 - 64ms/epoch - 4ms/step\n",
      "Epoch 77/100\n",
      "16/16 - 0s - loss: 0.2121 - accuracy: 0.9571 - val_loss: 0.1911 - val_accuracy: 0.9762 - 62ms/epoch - 4ms/step\n",
      "Epoch 78/100\n",
      "16/16 - 0s - loss: 0.2112 - accuracy: 0.9550 - val_loss: 0.1894 - val_accuracy: 0.9762 - 67ms/epoch - 4ms/step\n",
      "Epoch 79/100\n",
      "16/16 - 0s - loss: 0.2093 - accuracy: 0.9530 - val_loss: 0.1893 - val_accuracy: 0.9714 - 69ms/epoch - 4ms/step\n",
      "Epoch 80/100\n",
      "16/16 - 0s - loss: 0.2076 - accuracy: 0.9571 - val_loss: 0.1892 - val_accuracy: 0.9667 - 62ms/epoch - 4ms/step\n",
      "Epoch 81/100\n",
      "16/16 - 0s - loss: 0.2063 - accuracy: 0.9591 - val_loss: 0.1848 - val_accuracy: 0.9762 - 65ms/epoch - 4ms/step\n",
      "Epoch 82/100\n",
      "16/16 - 0s - loss: 0.2053 - accuracy: 0.9550 - val_loss: 0.1850 - val_accuracy: 0.9714 - 67ms/epoch - 4ms/step\n",
      "Epoch 83/100\n",
      "16/16 - 0s - loss: 0.2042 - accuracy: 0.9571 - val_loss: 0.1842 - val_accuracy: 0.9667 - 61ms/epoch - 4ms/step\n",
      "Epoch 84/100\n",
      "16/16 - 0s - loss: 0.2028 - accuracy: 0.9571 - val_loss: 0.1817 - val_accuracy: 0.9714 - 68ms/epoch - 4ms/step\n",
      "Epoch 85/100\n",
      "16/16 - 0s - loss: 0.2015 - accuracy: 0.9571 - val_loss: 0.1798 - val_accuracy: 0.9762 - 60ms/epoch - 4ms/step\n",
      "Epoch 86/100\n",
      "16/16 - 0s - loss: 0.2002 - accuracy: 0.9571 - val_loss: 0.1802 - val_accuracy: 0.9667 - 62ms/epoch - 4ms/step\n",
      "Epoch 87/100\n",
      "16/16 - 0s - loss: 0.1986 - accuracy: 0.9571 - val_loss: 0.1783 - val_accuracy: 0.9714 - 63ms/epoch - 4ms/step\n",
      "Epoch 88/100\n",
      "16/16 - 0s - loss: 0.1974 - accuracy: 0.9571 - val_loss: 0.1770 - val_accuracy: 0.9714 - 92ms/epoch - 6ms/step\n",
      "Epoch 89/100\n",
      "16/16 - 0s - loss: 0.1964 - accuracy: 0.9571 - val_loss: 0.1757 - val_accuracy: 0.9714 - 72ms/epoch - 5ms/step\n",
      "Epoch 90/100\n",
      "16/16 - 0s - loss: 0.1953 - accuracy: 0.9571 - val_loss: 0.1740 - val_accuracy: 0.9714 - 67ms/epoch - 4ms/step\n",
      "Epoch 91/100\n",
      "16/16 - 0s - loss: 0.1942 - accuracy: 0.9571 - val_loss: 0.1726 - val_accuracy: 0.9714 - 77ms/epoch - 5ms/step\n",
      "Epoch 92/100\n",
      "16/16 - 0s - loss: 0.1926 - accuracy: 0.9571 - val_loss: 0.1742 - val_accuracy: 0.9667 - 79ms/epoch - 5ms/step\n",
      "Epoch 93/100\n",
      "16/16 - 0s - loss: 0.1920 - accuracy: 0.9591 - val_loss: 0.1706 - val_accuracy: 0.9714 - 71ms/epoch - 4ms/step\n",
      "Epoch 94/100\n",
      "16/16 - 0s - loss: 0.1905 - accuracy: 0.9591 - val_loss: 0.1689 - val_accuracy: 0.9714 - 60ms/epoch - 4ms/step\n",
      "Epoch 95/100\n",
      "16/16 - 0s - loss: 0.1896 - accuracy: 0.9591 - val_loss: 0.1686 - val_accuracy: 0.9714 - 63ms/epoch - 4ms/step\n",
      "Epoch 96/100\n",
      "16/16 - 0s - loss: 0.1888 - accuracy: 0.9571 - val_loss: 0.1685 - val_accuracy: 0.9667 - 77ms/epoch - 5ms/step\n",
      "Epoch 97/100\n",
      "16/16 - 0s - loss: 0.1874 - accuracy: 0.9591 - val_loss: 0.1657 - val_accuracy: 0.9714 - 64ms/epoch - 4ms/step\n",
      "Epoch 98/100\n",
      "16/16 - 0s - loss: 0.1868 - accuracy: 0.9571 - val_loss: 0.1647 - val_accuracy: 0.9714 - 67ms/epoch - 4ms/step\n",
      "Epoch 99/100\n",
      "16/16 - 0s - loss: 0.1858 - accuracy: 0.9611 - val_loss: 0.1635 - val_accuracy: 0.9714 - 71ms/epoch - 4ms/step\n",
      "Epoch 100/100\n",
      "16/16 - 0s - loss: 0.1846 - accuracy: 0.9591 - val_loss: 0.1631 - val_accuracy: 0.9714 - 67ms/epoch - 4ms/step\n"
     ]
    }
   ],
   "source": [
    "history = model.fit( X_train,y_train,validation_data=(X_test,y_test),verbose=2,epochs=100)"
   ]
  },
  {
   "cell_type": "code",
   "execution_count": 17,
   "metadata": {
    "colab": {
     "base_uri": "https://localhost:8080/"
    },
    "executionInfo": {
     "elapsed": 24,
     "status": "ok",
     "timestamp": 1655387280403,
     "user": {
      "displayName": "Sanjay Sane",
      "userId": "14183293780199581235"
     },
     "user_tz": -330
    },
    "id": "82K7LpbCttU1",
    "outputId": "a299ea44-da73-433d-dbd2-b97272f396f3"
   },
   "outputs": [
    {
     "name": "stdout",
     "output_type": "stream",
     "text": [
      "Model: \"model\"\n",
      "_________________________________________________________________\n",
      " Layer (type)                Output Shape              Param #   \n",
      "=================================================================\n",
      " input_1 (InputLayer)        [(None, 9)]               0         \n",
      "                                                                 \n",
      " dense (Dense)               (None, 6)                 60        \n",
      "                                                                 \n",
      " dense_1 (Dense)             (None, 4)                 28        \n",
      "                                                                 \n",
      " dense_2 (Dense)             (None, 1)                 5         \n",
      "                                                                 \n",
      "=================================================================\n",
      "Total params: 93\n",
      "Trainable params: 93\n",
      "Non-trainable params: 0\n",
      "_________________________________________________________________\n",
      "None\n"
     ]
    }
   ],
   "source": [
    "print(model.summary())"
   ]
  },
  {
   "cell_type": "code",
   "execution_count": 18,
   "metadata": {
    "executionInfo": {
     "elapsed": 17,
     "status": "ok",
     "timestamp": 1655387280403,
     "user": {
      "displayName": "Sanjay Sane",
      "userId": "14183293780199581235"
     },
     "user_tz": -330
    },
    "id": "Ck6M_ZCEttU1"
   },
   "outputs": [],
   "source": [
    "%matplotlib inline"
   ]
  },
  {
   "cell_type": "markdown",
   "metadata": {},
   "source": [
    "#### Training and Validation Curves "
   ]
  },
  {
   "cell_type": "code",
   "execution_count": 19,
   "metadata": {
    "colab": {
     "base_uri": "https://localhost:8080/",
     "height": 295
    },
    "executionInfo": {
     "elapsed": 17,
     "status": "ok",
     "timestamp": 1655387280404,
     "user": {
      "displayName": "Sanjay Sane",
      "userId": "14183293780199581235"
     },
     "user_tz": -330
    },
    "id": "nJLsbfKlttU1",
    "outputId": "d7941bd3-68bd-44c0-8bb1-0e9b6cb6b93d"
   },
   "outputs": [
    {
     "data": {
      "image/png": "[encoded data removed]",
      "text/plain": [
       "<Figure size 640x480 with 1 Axes>"
      ]
     },
     "metadata": {},
     "output_type": "display_data"
    }
   ],
   "source": [
    "plt.plot(history.history['loss'])\n",
    "plt.plot(history.history['val_loss'])\n",
    "plt.title('model loss')\n",
    "plt.ylabel('loss')\n",
    "plt.xlabel('epoch')\n",
    "plt.legend(['train', 'test'], loc='upper right')\n",
    "plt.show()"
   ]
  },
  {
   "cell_type": "markdown",
   "metadata": {},
   "source": [
    "#####  Log Loss"
   ]
  },
  {
   "cell_type": "code",
   "execution_count": 20,
   "metadata": {
    "colab": {
     "base_uri": "https://localhost:8080/"
    },
    "executionInfo": {
     "elapsed": 698,
     "status": "ok",
     "timestamp": 1655387281094,
     "user": {
      "displayName": "Sanjay Sane",
      "userId": "14183293780199581235"
     },
     "user_tz": -330
    },
    "id": "c2_rAln_ttU1",
    "outputId": "36de6ca1-6012-4e92-86f4-4a53b13a0ddf"
   },
   "outputs": [
    {
     "name": "stdout",
     "output_type": "stream",
     "text": [
      "7/7 [==============================] - 0s 2ms/step\n"
     ]
    },
    {
     "data": {
      "text/plain": [
       "0.16308881841514017"
      ]
     },
     "execution_count": 20,
     "metadata": {},
     "output_type": "execute_result"
    }
   ],
   "source": [
    "y_pred_prob = model.predict(X_test)\n",
    "log_loss(y_true=y_test,y_pred=y_pred_prob)"
   ]
  },
  {
   "cell_type": "markdown",
   "metadata": {},
   "source": [
    "##### Accuracy "
   ]
  },
  {
   "cell_type": "code",
   "execution_count": 21,
   "metadata": {
    "executionInfo": {
     "elapsed": 9,
     "status": "ok",
     "timestamp": 1655387281095,
     "user": {
      "displayName": "Sanjay Sane",
      "userId": "14183293780199581235"
     },
     "user_tz": -330
    },
    "id": "K2hQQRVQttU2",
    "scrolled": true
   },
   "outputs": [
    {
     "name": "stdout",
     "output_type": "stream",
     "text": [
      "7/7 [==============================] - 0s 2ms/step\n"
     ]
    }
   ],
   "source": [
    "predict_prob = model.predict(X_test)"
   ]
  },
  {
   "cell_type": "markdown",
   "metadata": {
    "id": "dorQRSpxvWcT"
   },
   "source": [
    "###### Probability [Malignant]:"
   ]
  },
  {
   "cell_type": "code",
   "execution_count": 22,
   "metadata": {
    "colab": {
     "base_uri": "https://localhost:8080/"
    },
    "executionInfo": {
     "elapsed": 9,
     "status": "ok",
     "timestamp": 1655387281095,
     "user": {
      "displayName": "Sanjay Sane",
      "userId": "14183293780199581235"
     },
     "user_tz": -330
    },
    "id": "dupge-j_vOOv",
    "outputId": "8256cee1-7216-4e16-945b-a1118a101a8a"
   },
   "outputs": [
    {
     "data": {
      "text/plain": [
       "array([[0.1268992 ],\n",
       "       [0.12577589],\n",
       "       [0.10720582],\n",
       "       [0.10877944],\n",
       "       [0.10720582]], dtype=float32)"
      ]
     },
     "execution_count": 22,
     "metadata": {},
     "output_type": "execute_result"
    }
   ],
   "source": [
    "predict_prob[:5]"
   ]
  },
  {
   "cell_type": "code",
   "execution_count": 23,
   "metadata": {
    "colab": {
     "base_uri": "https://localhost:8080/"
    },
    "executionInfo": {
     "elapsed": 8,
     "status": "ok",
     "timestamp": 1655387281096,
     "user": {
      "displayName": "Sanjay Sane",
      "userId": "14183293780199581235"
     },
     "user_tz": -330
    },
    "id": "UjNN6qH2ttU2",
    "outputId": "71cd74d1-7587-42fb-f3d7-55d43ee11dec"
   },
   "outputs": [
    {
     "name": "stdout",
     "output_type": "stream",
     "text": [
      "Accuracy: 0.9714285714285714\n"
     ]
    }
   ],
   "source": [
    "predict_classes = np.where(predict_prob>=0.5,1,0)\n",
    "acc = accuracy_score(y_test,predict_classes)\n",
    "print(f\"Accuracy: {acc}\")"
   ]
  },
  {
   "cell_type": "markdown",
   "metadata": {
    "id": "Qt42i-KBxYMo"
   },
   "source": [
    "### Non-Sequential Network:"
   ]
  },
  {
   "cell_type": "code",
   "execution_count": 24,
   "metadata": {
    "executionInfo": {
     "elapsed": 373,
     "status": "ok",
     "timestamp": 1655388051849,
     "user": {
      "displayName": "Sanjay Sane",
      "userId": "14183293780199581235"
     },
     "user_tz": -330
    },
    "id": "pwcuMYFmxc6g"
   },
   "outputs": [],
   "source": [
    "tf.random.set_seed(2019)\n",
    "l1 = keras.Input(shape=(9,))\n",
    "l2 = tf.keras.layers.Dense(7, activation=\"relu\",name=\"L2\")(l1)\n",
    "l3 = tf.keras.layers.Dense(4, activation=\"relu\",name=\"L3\")(l2)\n",
    "l4 = tf.keras.layers.Dense(3, activation=\"relu\",name=\"L4\")(l2)\n",
    "concatenated = tf.keras.layers.Concatenate()([l3, l4])\n",
    "l5 = tf.keras.layers.Dense(3, activation=\"relu\",name=\"L5\")(concatenated)\n",
    "l6 = tf.keras.layers.Dense(1, activation=\"sigmoid\",name=\"L6\")(l5)\n",
    "model = tf.keras.Model(inputs=l1, outputs=l6)"
   ]
  },
  {
   "cell_type": "markdown",
   "metadata": {
    "id": "Gnj8h1O3zWA_"
   },
   "source": [
    "##### Network View"
   ]
  },
  {
   "cell_type": "code",
   "execution_count": 25,
   "metadata": {
    "colab": {
     "base_uri": "https://localhost:8080/",
     "height": 644
    },
    "executionInfo": {
     "elapsed": 6,
     "status": "ok",
     "timestamp": 1655388053825,
     "user": {
      "displayName": "Sanjay Sane",
      "userId": "14183293780199581235"
     },
     "user_tz": -330
    },
    "id": "71MCvalNzZDI",
    "outputId": "28cd1f71-1a40-43f5-c55b-82e220b6c36c"
   },
   "outputs": [
    {
     "data": {
      "image/png": "[encoded data removed]",
      "text/plain": [
       "<IPython.core.display.Image object>"
      ]
     },
     "execution_count": 25,
     "metadata": {},
     "output_type": "execute_result"
    }
   ],
   "source": [
    "tf.keras.utils.plot_model(model,show_layer_activations=True,show_shapes=True)"
   ]
  },
  {
   "cell_type": "code",
   "execution_count": 26,
   "metadata": {
    "executionInfo": {
     "elapsed": 410,
     "status": "ok",
     "timestamp": 1655388087364,
     "user": {
      "displayName": "Sanjay Sane",
      "userId": "14183293780199581235"
     },
     "user_tz": -330
    },
    "id": "V4uk-PXG0WNW"
   },
   "outputs": [],
   "source": [
    "model.compile(optimizer='sgd', loss='binary_crossentropy',metrics=['accuracy'])"
   ]
  },
  {
   "cell_type": "code",
   "execution_count": 27,
   "metadata": {
    "colab": {
     "base_uri": "https://localhost:8080/"
    },
    "executionInfo": {
     "elapsed": 9,
     "status": "ok",
     "timestamp": 1655388113576,
     "user": {
      "displayName": "Sanjay Sane",
      "userId": "14183293780199581235"
     },
     "user_tz": -330
    },
    "id": "YBoyz85E0aRX",
    "outputId": "6be7c92e-d435-4fbf-875e-2e367a2a0cdb"
   },
   "outputs": [
    {
     "name": "stdout",
     "output_type": "stream",
     "text": [
      "Model: \"model_1\"\n",
      "__________________________________________________________________________________________________\n",
      " Layer (type)                   Output Shape         Param #     Connected to                     \n",
      "==================================================================================================\n",
      " input_2 (InputLayer)           [(None, 9)]          0           []                               \n",
      "                                                                                                  \n",
      " L2 (Dense)                     (None, 7)            70          ['input_2[0][0]']                \n",
      "                                                                                                  \n",
      " L3 (Dense)                     (None, 4)            32          ['L2[0][0]']                     \n",
      "                                                                                                  \n",
      " L4 (Dense)                     (None, 3)            24          ['L2[0][0]']                     \n",
      "                                                                                                  \n",
      " concatenate (Concatenate)      (None, 7)            0           ['L3[0][0]',                     \n",
      "                                                                  'L4[0][0]']                     \n",
      "                                                                                                  \n",
      " L5 (Dense)                     (None, 3)            24          ['concatenate[0][0]']            \n",
      "                                                                                                  \n",
      " L6 (Dense)                     (None, 1)            4           ['L5[0][0]']                     \n",
      "                                                                                                  \n",
      "==================================================================================================\n",
      "Total params: 154\n",
      "Trainable params: 154\n",
      "Non-trainable params: 0\n",
      "__________________________________________________________________________________________________\n",
      "None\n"
     ]
    }
   ],
   "source": [
    "print(model.summary())"
   ]
  },
  {
   "cell_type": "code",
   "execution_count": 28,
   "metadata": {
    "colab": {
     "base_uri": "https://localhost:8080/"
    },
    "executionInfo": {
     "elapsed": 42066,
     "status": "ok",
     "timestamp": 1655388190938,
     "user": {
      "displayName": "Sanjay Sane",
      "userId": "14183293780199581235"
     },
     "user_tz": -330
    },
    "id": "zJfT_lLQ0d1I",
    "outputId": "f9e2bf18-64ad-4eab-9680-898e0cdd876a",
    "scrolled": false
   },
   "outputs": [
    {
     "name": "stdout",
     "output_type": "stream",
     "text": [
      "Epoch 1/100\n",
      "16/16 - 1s - loss: 0.7103 - accuracy: 0.3722 - val_loss: 0.6604 - val_accuracy: 0.5095 - 746ms/epoch - 47ms/step\n",
      "Epoch 2/100\n",
      "16/16 - 0s - loss: 0.6504 - accuracy: 0.4499 - val_loss: 0.6280 - val_accuracy: 0.7714 - 79ms/epoch - 5ms/step\n",
      "Epoch 3/100\n",
      "16/16 - 0s - loss: 0.6098 - accuracy: 0.5951 - val_loss: 0.5811 - val_accuracy: 0.4714 - 75ms/epoch - 5ms/step\n",
      "Epoch 4/100\n",
      "16/16 - 0s - loss: 0.5668 - accuracy: 0.6830 - val_loss: 0.5292 - val_accuracy: 0.7714 - 78ms/epoch - 5ms/step\n",
      "Epoch 5/100\n",
      "16/16 - 0s - loss: 0.5363 - accuracy: 0.8405 - val_loss: 0.5041 - val_accuracy: 0.9000 - 75ms/epoch - 5ms/step\n",
      "Epoch 6/100\n",
      "16/16 - 0s - loss: 0.5054 - accuracy: 0.8896 - val_loss: 0.4780 - val_accuracy: 0.8905 - 77ms/epoch - 5ms/step\n",
      "Epoch 7/100\n",
      "16/16 - 0s - loss: 0.4812 - accuracy: 0.8957 - val_loss: 0.4475 - val_accuracy: 0.9333 - 78ms/epoch - 5ms/step\n",
      "Epoch 8/100\n",
      "16/16 - 0s - loss: 0.4567 - accuracy: 0.9059 - val_loss: 0.4229 - val_accuracy: 0.9333 - 72ms/epoch - 4ms/step\n",
      "Epoch 9/100\n",
      "16/16 - 0s - loss: 0.4327 - accuracy: 0.9264 - val_loss: 0.4071 - val_accuracy: 0.9476 - 77ms/epoch - 5ms/step\n",
      "Epoch 10/100\n",
      "16/16 - 0s - loss: 0.4098 - accuracy: 0.9223 - val_loss: 0.3892 - val_accuracy: 0.9524 - 81ms/epoch - 5ms/step\n",
      "Epoch 11/100\n",
      "16/16 - 0s - loss: 0.3906 - accuracy: 0.9387 - val_loss: 0.3724 - val_accuracy: 0.9524 - 78ms/epoch - 5ms/step\n",
      "Epoch 12/100\n",
      "16/16 - 0s - loss: 0.3743 - accuracy: 0.9325 - val_loss: 0.3548 - val_accuracy: 0.9476 - 79ms/epoch - 5ms/step\n",
      "Epoch 13/100\n",
      "16/16 - 0s - loss: 0.3540 - accuracy: 0.9448 - val_loss: 0.3249 - val_accuracy: 0.9571 - 83ms/epoch - 5ms/step\n",
      "Epoch 14/100\n",
      "16/16 - 0s - loss: 0.3358 - accuracy: 0.9346 - val_loss: 0.3106 - val_accuracy: 0.9571 - 92ms/epoch - 6ms/step\n",
      "Epoch 15/100\n",
      "16/16 - 0s - loss: 0.3222 - accuracy: 0.9305 - val_loss: 0.3014 - val_accuracy: 0.9571 - 84ms/epoch - 5ms/step\n",
      "Epoch 16/100\n",
      "16/16 - 0s - loss: 0.3099 - accuracy: 0.9448 - val_loss: 0.2831 - val_accuracy: 0.9619 - 84ms/epoch - 5ms/step\n",
      "Epoch 17/100\n",
      "16/16 - 0s - loss: 0.2971 - accuracy: 0.9407 - val_loss: 0.2693 - val_accuracy: 0.9571 - 88ms/epoch - 5ms/step\n",
      "Epoch 18/100\n",
      "16/16 - 0s - loss: 0.2844 - accuracy: 0.9489 - val_loss: 0.2668 - val_accuracy: 0.9524 - 82ms/epoch - 5ms/step\n",
      "Epoch 19/100\n",
      "16/16 - 0s - loss: 0.2738 - accuracy: 0.9427 - val_loss: 0.2502 - val_accuracy: 0.9571 - 73ms/epoch - 5ms/step\n",
      "Epoch 20/100\n",
      "16/16 - 0s - loss: 0.2685 - accuracy: 0.9427 - val_loss: 0.2426 - val_accuracy: 0.9571 - 75ms/epoch - 5ms/step\n",
      "Epoch 21/100\n",
      "16/16 - 0s - loss: 0.2585 - accuracy: 0.9509 - val_loss: 0.2613 - val_accuracy: 0.9333 - 74ms/epoch - 5ms/step\n",
      "Epoch 22/100\n",
      "16/16 - 0s - loss: 0.2567 - accuracy: 0.9468 - val_loss: 0.2279 - val_accuracy: 0.9619 - 72ms/epoch - 5ms/step\n",
      "Epoch 23/100\n",
      "16/16 - 0s - loss: 0.2482 - accuracy: 0.9448 - val_loss: 0.2464 - val_accuracy: 0.9381 - 99ms/epoch - 6ms/step\n",
      "Epoch 24/100\n",
      "16/16 - 0s - loss: 0.2401 - accuracy: 0.9407 - val_loss: 0.2221 - val_accuracy: 0.9571 - 82ms/epoch - 5ms/step\n",
      "Epoch 25/100\n",
      "16/16 - 0s - loss: 0.2370 - accuracy: 0.9489 - val_loss: 0.2111 - val_accuracy: 0.9619 - 77ms/epoch - 5ms/step\n",
      "Epoch 26/100\n",
      "16/16 - 0s - loss: 0.2307 - accuracy: 0.9448 - val_loss: 0.2767 - val_accuracy: 0.9000 - 77ms/epoch - 5ms/step\n",
      "Epoch 27/100\n",
      "16/16 - 0s - loss: 0.2268 - accuracy: 0.9387 - val_loss: 0.2175 - val_accuracy: 0.9476 - 86ms/epoch - 5ms/step\n",
      "Epoch 28/100\n",
      "16/16 - 0s - loss: 0.2212 - accuracy: 0.9468 - val_loss: 0.1962 - val_accuracy: 0.9619 - 79ms/epoch - 5ms/step\n",
      "Epoch 29/100\n",
      "16/16 - 0s - loss: 0.2191 - accuracy: 0.9489 - val_loss: 0.2021 - val_accuracy: 0.9619 - 70ms/epoch - 4ms/step\n",
      "Epoch 30/100\n",
      "16/16 - 0s - loss: 0.2106 - accuracy: 0.9550 - val_loss: 0.1894 - val_accuracy: 0.9667 - 75ms/epoch - 5ms/step\n",
      "Epoch 31/100\n",
      "16/16 - 0s - loss: 0.2083 - accuracy: 0.9489 - val_loss: 0.1898 - val_accuracy: 0.9619 - 78ms/epoch - 5ms/step\n",
      "Epoch 32/100\n",
      "16/16 - 0s - loss: 0.2053 - accuracy: 0.9550 - val_loss: 0.1808 - val_accuracy: 0.9619 - 74ms/epoch - 5ms/step\n",
      "Epoch 33/100\n",
      "16/16 - 0s - loss: 0.2010 - accuracy: 0.9489 - val_loss: 0.1778 - val_accuracy: 0.9619 - 73ms/epoch - 5ms/step\n",
      "Epoch 34/100\n",
      "16/16 - 0s - loss: 0.1974 - accuracy: 0.9509 - val_loss: 0.1789 - val_accuracy: 0.9619 - 73ms/epoch - 5ms/step\n",
      "Epoch 35/100\n",
      "16/16 - 0s - loss: 0.1944 - accuracy: 0.9550 - val_loss: 0.1745 - val_accuracy: 0.9619 - 79ms/epoch - 5ms/step\n",
      "Epoch 36/100\n",
      "16/16 - 0s - loss: 0.1941 - accuracy: 0.9530 - val_loss: 0.1677 - val_accuracy: 0.9619 - 67ms/epoch - 4ms/step\n",
      "Epoch 37/100\n",
      "16/16 - 0s - loss: 0.1894 - accuracy: 0.9489 - val_loss: 0.1638 - val_accuracy: 0.9619 - 72ms/epoch - 5ms/step\n",
      "Epoch 38/100\n",
      "16/16 - 0s - loss: 0.1869 - accuracy: 0.9530 - val_loss: 0.1596 - val_accuracy: 0.9619 - 77ms/epoch - 5ms/step\n",
      "Epoch 39/100\n",
      "16/16 - 0s - loss: 0.1830 - accuracy: 0.9571 - val_loss: 0.1559 - val_accuracy: 0.9619 - 66ms/epoch - 4ms/step\n",
      "Epoch 40/100\n",
      "16/16 - 0s - loss: 0.1877 - accuracy: 0.9571 - val_loss: 0.3042 - val_accuracy: 0.8810 - 92ms/epoch - 6ms/step\n",
      "Epoch 41/100\n",
      "16/16 - 0s - loss: 0.1912 - accuracy: 0.9407 - val_loss: 0.2056 - val_accuracy: 0.9286 - 74ms/epoch - 5ms/step\n",
      "Epoch 42/100\n",
      "16/16 - 0s - loss: 0.1783 - accuracy: 0.9509 - val_loss: 0.1479 - val_accuracy: 0.9619 - 73ms/epoch - 5ms/step\n",
      "Epoch 43/100\n",
      "16/16 - 0s - loss: 0.1774 - accuracy: 0.9591 - val_loss: 0.1446 - val_accuracy: 0.9619 - 76ms/epoch - 5ms/step\n",
      "Epoch 44/100\n",
      "16/16 - 0s - loss: 0.1786 - accuracy: 0.9550 - val_loss: 0.1459 - val_accuracy: 0.9619 - 68ms/epoch - 4ms/step\n",
      "Epoch 45/100\n",
      "16/16 - 0s - loss: 0.1722 - accuracy: 0.9530 - val_loss: 0.1424 - val_accuracy: 0.9619 - 81ms/epoch - 5ms/step\n",
      "Epoch 46/100\n",
      "16/16 - 0s - loss: 0.1757 - accuracy: 0.9489 - val_loss: 0.1368 - val_accuracy: 0.9619 - 71ms/epoch - 4ms/step\n",
      "Epoch 47/100\n",
      "16/16 - 0s - loss: 0.1690 - accuracy: 0.9550 - val_loss: 0.1412 - val_accuracy: 0.9619 - 66ms/epoch - 4ms/step\n",
      "Epoch 48/100\n",
      "16/16 - 0s - loss: 0.1674 - accuracy: 0.9530 - val_loss: 0.1394 - val_accuracy: 0.9619 - 78ms/epoch - 5ms/step\n",
      "Epoch 49/100\n",
      "16/16 - 0s - loss: 0.1724 - accuracy: 0.9530 - val_loss: 0.1423 - val_accuracy: 0.9667 - 79ms/epoch - 5ms/step\n",
      "Epoch 50/100\n",
      "16/16 - 0s - loss: 0.1663 - accuracy: 0.9509 - val_loss: 0.1297 - val_accuracy: 0.9667 - 74ms/epoch - 5ms/step\n",
      "Epoch 51/100\n",
      "16/16 - 0s - loss: 0.1620 - accuracy: 0.9571 - val_loss: 0.1301 - val_accuracy: 0.9619 - 79ms/epoch - 5ms/step\n",
      "Epoch 52/100\n",
      "16/16 - 0s - loss: 0.1636 - accuracy: 0.9591 - val_loss: 0.1251 - val_accuracy: 0.9619 - 76ms/epoch - 5ms/step\n",
      "Epoch 53/100\n",
      "16/16 - 0s - loss: 0.1601 - accuracy: 0.9571 - val_loss: 0.1749 - val_accuracy: 0.9286 - 62ms/epoch - 4ms/step\n",
      "Epoch 54/100\n",
      "16/16 - 0s - loss: 0.1753 - accuracy: 0.9509 - val_loss: 0.1268 - val_accuracy: 0.9619 - 67ms/epoch - 4ms/step\n",
      "Epoch 55/100\n",
      "16/16 - 0s - loss: 0.1548 - accuracy: 0.9591 - val_loss: 0.1289 - val_accuracy: 0.9667 - 63ms/epoch - 4ms/step\n",
      "Epoch 56/100\n",
      "16/16 - 0s - loss: 0.1533 - accuracy: 0.9550 - val_loss: 0.1360 - val_accuracy: 0.9619 - 61ms/epoch - 4ms/step\n",
      "Epoch 57/100\n",
      "16/16 - 0s - loss: 0.1527 - accuracy: 0.9591 - val_loss: 0.1242 - val_accuracy: 0.9667 - 69ms/epoch - 4ms/step\n",
      "Epoch 58/100\n",
      "16/16 - 0s - loss: 0.1525 - accuracy: 0.9550 - val_loss: 0.1190 - val_accuracy: 0.9714 - 72ms/epoch - 5ms/step\n",
      "Epoch 59/100\n",
      "16/16 - 0s - loss: 0.1534 - accuracy: 0.9591 - val_loss: 0.1154 - val_accuracy: 0.9667 - 70ms/epoch - 4ms/step\n",
      "Epoch 60/100\n",
      "16/16 - 0s - loss: 0.1488 - accuracy: 0.9571 - val_loss: 0.1139 - val_accuracy: 0.9667 - 63ms/epoch - 4ms/step\n",
      "Epoch 61/100\n",
      "16/16 - 0s - loss: 0.1497 - accuracy: 0.9550 - val_loss: 0.1122 - val_accuracy: 0.9667 - 70ms/epoch - 4ms/step\n",
      "Epoch 62/100\n",
      "16/16 - 0s - loss: 0.1548 - accuracy: 0.9591 - val_loss: 0.1256 - val_accuracy: 0.9619 - 70ms/epoch - 4ms/step\n",
      "Epoch 63/100\n",
      "16/16 - 0s - loss: 0.1454 - accuracy: 0.9571 - val_loss: 0.1106 - val_accuracy: 0.9619 - 70ms/epoch - 4ms/step\n",
      "Epoch 64/100\n",
      "16/16 - 0s - loss: 0.1433 - accuracy: 0.9611 - val_loss: 0.1369 - val_accuracy: 0.9810 - 62ms/epoch - 4ms/step\n",
      "Epoch 65/100\n",
      "16/16 - 0s - loss: 0.1445 - accuracy: 0.9652 - val_loss: 0.2153 - val_accuracy: 0.9238 - 67ms/epoch - 4ms/step\n",
      "Epoch 66/100\n",
      "16/16 - 0s - loss: 0.1508 - accuracy: 0.9489 - val_loss: 0.1160 - val_accuracy: 0.9762 - 72ms/epoch - 5ms/step\n",
      "Epoch 67/100\n",
      "16/16 - 0s - loss: 0.1470 - accuracy: 0.9550 - val_loss: 0.1174 - val_accuracy: 0.9619 - 68ms/epoch - 4ms/step\n",
      "Epoch 68/100\n",
      "16/16 - 0s - loss: 0.1438 - accuracy: 0.9632 - val_loss: 0.1253 - val_accuracy: 0.9619 - 67ms/epoch - 4ms/step\n",
      "Epoch 69/100\n",
      "16/16 - 0s - loss: 0.1399 - accuracy: 0.9611 - val_loss: 0.1214 - val_accuracy: 0.9619 - 64ms/epoch - 4ms/step\n",
      "Epoch 70/100\n",
      "16/16 - 0s - loss: 0.1380 - accuracy: 0.9571 - val_loss: 0.1202 - val_accuracy: 0.9619 - 77ms/epoch - 5ms/step\n",
      "Epoch 71/100\n",
      "16/16 - 0s - loss: 0.1389 - accuracy: 0.9591 - val_loss: 0.1052 - val_accuracy: 0.9714 - 75ms/epoch - 5ms/step\n",
      "Epoch 72/100\n",
      "16/16 - 0s - loss: 0.1336 - accuracy: 0.9632 - val_loss: 0.1035 - val_accuracy: 0.9714 - 74ms/epoch - 5ms/step\n",
      "Epoch 73/100\n",
      "16/16 - 0s - loss: 0.1366 - accuracy: 0.9611 - val_loss: 0.1014 - val_accuracy: 0.9762 - 62ms/epoch - 4ms/step\n",
      "Epoch 74/100\n",
      "16/16 - 0s - loss: 0.1396 - accuracy: 0.9591 - val_loss: 0.1105 - val_accuracy: 0.9619 - 66ms/epoch - 4ms/step\n",
      "Epoch 75/100\n",
      "16/16 - 0s - loss: 0.1352 - accuracy: 0.9632 - val_loss: 0.1016 - val_accuracy: 0.9714 - 70ms/epoch - 4ms/step\n",
      "Epoch 76/100\n",
      "16/16 - 0s - loss: 0.1335 - accuracy: 0.9611 - val_loss: 0.0955 - val_accuracy: 0.9714 - 67ms/epoch - 4ms/step\n",
      "Epoch 77/100\n",
      "16/16 - 0s - loss: 0.1301 - accuracy: 0.9673 - val_loss: 0.0975 - val_accuracy: 0.9762 - 68ms/epoch - 4ms/step\n",
      "Epoch 78/100\n",
      "16/16 - 0s - loss: 0.1377 - accuracy: 0.9611 - val_loss: 0.0957 - val_accuracy: 0.9762 - 62ms/epoch - 4ms/step\n",
      "Epoch 79/100\n",
      "16/16 - 0s - loss: 0.1270 - accuracy: 0.9611 - val_loss: 0.0950 - val_accuracy: 0.9714 - 69ms/epoch - 4ms/step\n",
      "Epoch 80/100\n",
      "16/16 - 0s - loss: 0.1252 - accuracy: 0.9611 - val_loss: 0.1122 - val_accuracy: 0.9619 - 73ms/epoch - 5ms/step\n",
      "Epoch 81/100\n",
      "16/16 - 0s - loss: 0.1227 - accuracy: 0.9611 - val_loss: 0.0923 - val_accuracy: 0.9810 - 69ms/epoch - 4ms/step\n",
      "Epoch 82/100\n",
      "16/16 - 0s - loss: 0.1286 - accuracy: 0.9571 - val_loss: 0.1077 - val_accuracy: 0.9619 - 62ms/epoch - 4ms/step\n",
      "Epoch 83/100\n",
      "16/16 - 0s - loss: 0.1335 - accuracy: 0.9571 - val_loss: 0.1202 - val_accuracy: 0.9619 - 66ms/epoch - 4ms/step\n",
      "Epoch 84/100\n",
      "16/16 - 0s - loss: 0.1310 - accuracy: 0.9550 - val_loss: 0.0974 - val_accuracy: 0.9762 - 69ms/epoch - 4ms/step\n",
      "Epoch 85/100\n",
      "16/16 - 0s - loss: 0.1386 - accuracy: 0.9591 - val_loss: 0.0883 - val_accuracy: 0.9762 - 69ms/epoch - 4ms/step\n",
      "Epoch 86/100\n",
      "16/16 - 0s - loss: 0.1277 - accuracy: 0.9652 - val_loss: 0.0873 - val_accuracy: 0.9810 - 70ms/epoch - 4ms/step\n",
      "Epoch 87/100\n",
      "16/16 - 0s - loss: 0.1233 - accuracy: 0.9632 - val_loss: 0.0884 - val_accuracy: 0.9762 - 68ms/epoch - 4ms/step\n",
      "Epoch 88/100\n",
      "16/16 - 0s - loss: 0.1250 - accuracy: 0.9611 - val_loss: 0.0874 - val_accuracy: 0.9762 - 69ms/epoch - 4ms/step\n",
      "Epoch 89/100\n",
      "16/16 - 0s - loss: 0.1260 - accuracy: 0.9550 - val_loss: 0.0882 - val_accuracy: 0.9762 - 71ms/epoch - 4ms/step\n",
      "Epoch 90/100\n",
      "16/16 - 0s - loss: 0.1247 - accuracy: 0.9591 - val_loss: 0.0847 - val_accuracy: 0.9857 - 70ms/epoch - 4ms/step\n",
      "Epoch 91/100\n",
      "16/16 - 0s - loss: 0.1239 - accuracy: 0.9530 - val_loss: 0.0838 - val_accuracy: 0.9810 - 65ms/epoch - 4ms/step\n",
      "Epoch 92/100\n",
      "16/16 - 0s - loss: 0.1182 - accuracy: 0.9632 - val_loss: 0.1376 - val_accuracy: 0.9524 - 72ms/epoch - 5ms/step\n",
      "Epoch 93/100\n",
      "16/16 - 0s - loss: 0.1216 - accuracy: 0.9571 - val_loss: 0.0830 - val_accuracy: 0.9857 - 78ms/epoch - 5ms/step\n",
      "Epoch 94/100\n",
      "16/16 - 0s - loss: 0.1213 - accuracy: 0.9611 - val_loss: 0.0821 - val_accuracy: 0.9810 - 74ms/epoch - 5ms/step\n",
      "Epoch 95/100\n",
      "16/16 - 0s - loss: 0.1169 - accuracy: 0.9652 - val_loss: 0.0824 - val_accuracy: 0.9762 - 71ms/epoch - 4ms/step\n",
      "Epoch 96/100\n",
      "16/16 - 0s - loss: 0.1226 - accuracy: 0.9632 - val_loss: 0.1043 - val_accuracy: 0.9667 - 68ms/epoch - 4ms/step\n",
      "Epoch 97/100\n",
      "16/16 - 0s - loss: 0.1153 - accuracy: 0.9611 - val_loss: 0.0801 - val_accuracy: 0.9810 - 72ms/epoch - 5ms/step\n",
      "Epoch 98/100\n",
      "16/16 - 0s - loss: 0.1210 - accuracy: 0.9550 - val_loss: 0.0807 - val_accuracy: 0.9762 - 71ms/epoch - 4ms/step\n",
      "Epoch 99/100\n",
      "16/16 - 0s - loss: 0.1163 - accuracy: 0.9652 - val_loss: 0.0788 - val_accuracy: 0.9857 - 73ms/epoch - 5ms/step\n",
      "Epoch 100/100\n",
      "16/16 - 0s - loss: 0.1166 - accuracy: 0.9591 - val_loss: 0.0822 - val_accuracy: 0.9762 - 74ms/epoch - 5ms/step\n"
     ]
    }
   ],
   "source": [
    "history = model.fit( X_train,y_train,validation_data=(X_test,y_test),verbose=2,epochs=100)"
   ]
  },
  {
   "cell_type": "markdown",
   "metadata": {},
   "source": [
    "#### Training and Validation Curves "
   ]
  },
  {
   "cell_type": "code",
   "execution_count": 29,
   "metadata": {},
   "outputs": [
    {
     "data": {
      "image/png": "[encoded data removed]",
      "text/plain": [
       "<Figure size 640x480 with 1 Axes>"
      ]
     },
     "metadata": {},
     "output_type": "display_data"
    }
   ],
   "source": [
    "plt.plot(history.history['loss'])\n",
    "plt.plot(history.history['val_loss'])\n",
    "plt.title('model loss')\n",
    "plt.ylabel('loss')\n",
    "plt.xlabel('epoch')\n",
    "plt.legend(['train', 'test'], loc='upper right')\n",
    "plt.show()"
   ]
  },
  {
   "cell_type": "markdown",
   "metadata": {},
   "source": [
    "##### Log Loss "
   ]
  },
  {
   "cell_type": "code",
   "execution_count": 30,
   "metadata": {},
   "outputs": [
    {
     "name": "stdout",
     "output_type": "stream",
     "text": [
      "7/7 [==============================] - 0s 3ms/step\n"
     ]
    },
    {
     "data": {
      "text/plain": [
       "0.08217539243037858"
      ]
     },
     "execution_count": 30,
     "metadata": {},
     "output_type": "execute_result"
    }
   ],
   "source": [
    "y_pred_prob = model.predict(X_test)\n",
    "log_loss(y_true=y_test,y_pred=y_pred_prob)"
   ]
  },
  {
   "cell_type": "markdown",
   "metadata": {},
   "source": [
    "##### Accuracy "
   ]
  },
  {
   "cell_type": "code",
   "execution_count": 31,
   "metadata": {},
   "outputs": [
    {
     "name": "stdout",
     "output_type": "stream",
     "text": [
      "7/7 [==============================] - 0s 2ms/step\n",
      "Accuracy: 0.9761904761904762\n"
     ]
    }
   ],
   "source": [
    "predict_prob = model.predict(X_test)\n",
    "predict_classes = np.where(predict_prob>=0.5,1,0)\n",
    "acc = accuracy_score(y_test,predict_classes)\n",
    "print(f\"Accuracy: {acc}\")"
   ]
  }
 ],
 "metadata": {
  "colab": {
   "name": "FunctionalAPI.ipynb",
   "provenance": []
  },
  "kernelspec": {
   "display_name": "Python 3 (ipykernel)",
   "language": "python",
   "name": "python3"
  },
  "language_info": {
   "codemirror_mode": {
    "name": "ipython",
    "version": 3
   },
   "file_extension": ".py",
   "mimetype": "text/x-python",
   "name": "python",
   "nbconvert_exporter": "python",
   "pygments_lexer": "ipython3",
   "version": "3.7.12"
  }
 },
 "nbformat": 4,
 "nbformat_minor": 1
}
