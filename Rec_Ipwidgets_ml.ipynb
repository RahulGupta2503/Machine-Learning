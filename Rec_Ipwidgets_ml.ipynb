{
 "cells": [
  {
   "cell_type": "code",
   "execution_count": 1,
   "id": "ad782978",
   "metadata": {},
   "outputs": [],
   "source": [
    "import pandas as pd\n",
    "import matplotlib.pyplot as plt\n",
    "import numpy as np\n",
    "from sklearn.ensemble import RandomForestClassifier\n",
    "import pickle\n",
    "import ipywidgets as widgets\n",
    "from IPython.display import display\n",
    "from sklearn.preprocessing import OneHotEncoder\n",
    "from sklearn.compose import make_column_transformer,make_column_selector"
   ]
  },
  {
   "cell_type": "code",
   "execution_count": 2,
   "id": "ed8c288a",
   "metadata": {},
   "outputs": [
    {
     "name": "stdout",
     "output_type": "stream",
     "text": [
      "RandomForestClassifier(max_features=1, random_state=2022)\n"
     ]
    }
   ],
   "source": [
    "rf_pickle = open (r\"C:\\Training\\Kaggle\\Datasets\\Heart Failure\\rf.pickle\", \"rb\")\n",
    "best_model_rf = pickle.load(rf_pickle)\n",
    "print(best_model_rf)"
   ]
  },
  {
   "cell_type": "code",
   "execution_count": 3,
   "id": "1e982d23",
   "metadata": {},
   "outputs": [],
   "source": [
    "#ct_pickle = open (r\"C:\\Training\\Kaggle\\Datasets\\Heart Failure\\ct.pickle\", \"rb\")\n",
    "#ct = pickle.load(ct_pickle)\n",
    "#print(ct.get_feature_names_out())"
   ]
  },
  {
   "cell_type": "code",
   "execution_count": 4,
   "id": "d8b50a26",
   "metadata": {},
   "outputs": [
    {
     "data": {
      "text/html": [
       "<div>\n",
       "<style scoped>\n",
       "    .dataframe tbody tr th:only-of-type {\n",
       "        vertical-align: middle;\n",
       "    }\n",
       "\n",
       "    .dataframe tbody tr th {\n",
       "        vertical-align: top;\n",
       "    }\n",
       "\n",
       "    .dataframe thead th {\n",
       "        text-align: right;\n",
       "    }\n",
       "</style>\n",
       "<table border=\"1\" class=\"dataframe\">\n",
       "  <thead>\n",
       "    <tr style=\"text-align: right;\">\n",
       "      <th></th>\n",
       "      <th>Age</th>\n",
       "      <th>Sex</th>\n",
       "      <th>ChestPainType</th>\n",
       "      <th>RestingBP</th>\n",
       "      <th>Cholesterol</th>\n",
       "      <th>FastingBS</th>\n",
       "      <th>RestingECG</th>\n",
       "      <th>MaxHR</th>\n",
       "      <th>ExerciseAngina</th>\n",
       "      <th>Oldpeak</th>\n",
       "      <th>ST_Slope</th>\n",
       "      <th>HeartDisease</th>\n",
       "    </tr>\n",
       "  </thead>\n",
       "  <tbody>\n",
       "    <tr>\n",
       "      <th>0</th>\n",
       "      <td>40</td>\n",
       "      <td>M</td>\n",
       "      <td>ATA</td>\n",
       "      <td>140</td>\n",
       "      <td>289</td>\n",
       "      <td>0</td>\n",
       "      <td>Normal</td>\n",
       "      <td>172</td>\n",
       "      <td>N</td>\n",
       "      <td>0.0</td>\n",
       "      <td>Up</td>\n",
       "      <td>0</td>\n",
       "    </tr>\n",
       "    <tr>\n",
       "      <th>1</th>\n",
       "      <td>49</td>\n",
       "      <td>F</td>\n",
       "      <td>NAP</td>\n",
       "      <td>160</td>\n",
       "      <td>180</td>\n",
       "      <td>0</td>\n",
       "      <td>Normal</td>\n",
       "      <td>156</td>\n",
       "      <td>N</td>\n",
       "      <td>1.0</td>\n",
       "      <td>Flat</td>\n",
       "      <td>1</td>\n",
       "    </tr>\n",
       "    <tr>\n",
       "      <th>2</th>\n",
       "      <td>37</td>\n",
       "      <td>M</td>\n",
       "      <td>ATA</td>\n",
       "      <td>130</td>\n",
       "      <td>283</td>\n",
       "      <td>0</td>\n",
       "      <td>ST</td>\n",
       "      <td>98</td>\n",
       "      <td>N</td>\n",
       "      <td>0.0</td>\n",
       "      <td>Up</td>\n",
       "      <td>0</td>\n",
       "    </tr>\n",
       "    <tr>\n",
       "      <th>3</th>\n",
       "      <td>48</td>\n",
       "      <td>F</td>\n",
       "      <td>ASY</td>\n",
       "      <td>138</td>\n",
       "      <td>214</td>\n",
       "      <td>0</td>\n",
       "      <td>Normal</td>\n",
       "      <td>108</td>\n",
       "      <td>Y</td>\n",
       "      <td>1.5</td>\n",
       "      <td>Flat</td>\n",
       "      <td>1</td>\n",
       "    </tr>\n",
       "    <tr>\n",
       "      <th>4</th>\n",
       "      <td>54</td>\n",
       "      <td>M</td>\n",
       "      <td>NAP</td>\n",
       "      <td>150</td>\n",
       "      <td>195</td>\n",
       "      <td>0</td>\n",
       "      <td>Normal</td>\n",
       "      <td>122</td>\n",
       "      <td>N</td>\n",
       "      <td>0.0</td>\n",
       "      <td>Up</td>\n",
       "      <td>0</td>\n",
       "    </tr>\n",
       "  </tbody>\n",
       "</table>\n",
       "</div>"
      ],
      "text/plain": [
       "   Age Sex ChestPainType  RestingBP  Cholesterol  FastingBS RestingECG  MaxHR  \\\n",
       "0   40   M           ATA        140          289          0     Normal    172   \n",
       "1   49   F           NAP        160          180          0     Normal    156   \n",
       "2   37   M           ATA        130          283          0         ST     98   \n",
       "3   48   F           ASY        138          214          0     Normal    108   \n",
       "4   54   M           NAP        150          195          0     Normal    122   \n",
       "\n",
       "  ExerciseAngina  Oldpeak ST_Slope  HeartDisease  \n",
       "0              N      0.0       Up             0  \n",
       "1              N      1.0     Flat             1  \n",
       "2              N      0.0       Up             0  \n",
       "3              Y      1.5     Flat             1  \n",
       "4              N      0.0       Up             0  "
      ]
     },
     "execution_count": 4,
     "metadata": {},
     "output_type": "execute_result"
    }
   ],
   "source": [
    "df = pd.read_csv(r\"C:\\Training\\Kaggle\\Datasets\\Heart Failure\\heart.csv\")\n",
    "df.head()"
   ]
  },
  {
   "cell_type": "code",
   "execution_count": 5,
   "id": "6a8f32b2",
   "metadata": {},
   "outputs": [],
   "source": [
    "X = df.drop('HeartDisease', axis=1)\n",
    "y = df['HeartDisease']\n",
    "\n",
    "\n",
    "### Using One Hot Encoder\n",
    "\n",
    "ohc = OneHotEncoder(handle_unknown='ignore')\n",
    "ct = make_column_transformer((ohc,\n",
    "       make_column_selector(dtype_include=object)),\n",
    "                             (\"passthrough\",\n",
    "                              make_column_selector(dtype_include=['int64','float64'])))\n",
    "dum_np = ct.fit_transform(X)"
   ]
  },
  {
   "cell_type": "code",
   "execution_count": 6,
   "id": "bc330db6",
   "metadata": {},
   "outputs": [],
   "source": [
    "def input_test(Age,RestingBP,Cholesterol,FastingBS,MaxHR,Oldpeak,Sex,ChestPainType,RestingECG,ExerciseAngina,ST_Slope):\n",
    "    tst_df = pd.DataFrame([[Age, Sex, ChestPainType, RestingBP, Cholesterol, FastingBS,\n",
    "       RestingECG, MaxHR, ExerciseAngina, Oldpeak, ST_Slope]],\n",
    "                          columns=['Age', 'Sex', 'ChestPainType', 'RestingBP', 'Cholesterol', 'FastingBS',\n",
    "       'RestingECG', 'MaxHR', 'ExerciseAngina', 'Oldpeak', 'ST_Slope'])\n",
    "    return tst_df;\n",
    "\n",
    "def predict_on_test(Age,RestingBP,Cholesterol,FastingBS,MaxHR,Oldpeak,Sex,ChestPainType,RestingECG,ExerciseAngina,ST_Slope):\n",
    "    d_frame = input_test(Age,RestingBP,Cholesterol,FastingBS,MaxHR,Oldpeak,Sex,ChestPainType,RestingECG,ExerciseAngina,ST_Slope)\n",
    "    tst = pd.DataFrame(ct.transform(d_frame),columns=ct.get_feature_names_out())\n",
    "    p = best_model_rf.predict_proba(tst)\n",
    "    prob = widgets.BoundedFloatText(value=p[:,1][0]*100,min=0.0,\n",
    "                                    max=100.0,disabled=True,\n",
    "                                    description='% Risk:')\n",
    "    display(prob);"
   ]
  },
  {
   "cell_type": "code",
   "execution_count": 7,
   "id": "e5d72696",
   "metadata": {},
   "outputs": [
    {
     "data": {
      "application/vnd.jupyter.widget-view+json": {
       "model_id": "94334c0e1001453da72f8f9a048762fb",
       "version_major": 2,
       "version_minor": 0
      },
      "text/plain": [
       "interactive(children=(IntSlider(value=53, description='Age:', max=77, min=28), IntSlider(value=132, descriptio…"
      ]
     },
     "metadata": {},
     "output_type": "display_data"
    }
   ],
   "source": [
    "w = widgets.interactive(predict_on_test,  \n",
    "Age = widgets.IntSlider(value=53,min=28,max=77,step=1,description='Age:',disabled=False,\n",
    "                         continuous_update=True,readout=True),\n",
    "RestingBP = widgets.IntSlider(value=132,min=0,max=200,step=1,description='Resting BP:',disabled=False,\n",
    "                         continuous_update=True,readout=True),\n",
    "Cholesterol = widgets.IntSlider(value=199,min=0,max=603,step=1,description='Cholesterol:',disabled=False,\n",
    "                         continuous_update=True,readout=True),\n",
    "FastingBS = widgets.Checkbox(value=True,description='Fasting Sugar>120 mg/dl',disabled=False,\n",
    "                         continuous_update=True,readout=True),\n",
    "MaxHR = widgets.IntSlider(value=137,min=60,max=202,step=1,description='Max HR:',disabled=False,\n",
    "                         continuous_update=True,readout=True),\n",
    "Oldpeak = widgets.FloatSlider(value=1.0,min=-3.0,max=6.2,step=0.05,description='Old Peak:',disabled=False,\n",
    "                         continuous_update=True,readout=True,readout_format='.1f'),\n",
    "Sex = widgets.Dropdown(options=['Male','Female'],value='Female',description='Sex:',disabled=False,\n",
    "                         continuous_update=True,readout=True),\n",
    "ChestPainType = widgets.Dropdown(options=['ATA', 'NAP', 'ASY', 'TA'],value='NAP',\n",
    "                                    description='Chest Pain:',disabled=False,\n",
    "                         continuous_update=True,readout=True),\n",
    "RestingECG = widgets.Dropdown(options=['Normal', 'ST', 'LVH'],value='Normal',\n",
    "                                    description='Resting ECG:',disabled=False,\n",
    "                         continuous_update=True,readout=True),\n",
    "ExerciseAngina = widgets.Dropdown(options=['N', 'Y'],value='N',\n",
    "                                    description='Ex. Angina:',disabled=False,\n",
    "                         continuous_update=True,readout=True),\n",
    "ST_Slope = widgets.Dropdown(options=['Up', 'Flat', 'Down'],value='Up',\n",
    "                                    description='ST Slope:',disabled=False,\n",
    "                         continuous_update=True,readout=True))\n",
    "\n",
    "\n",
    "\n",
    "display(w)"
   ]
  },
  {
   "cell_type": "code",
   "execution_count": null,
   "id": "09467c1d",
   "metadata": {},
   "outputs": [],
   "source": []
  }
 ],
 "metadata": {
  "kernelspec": {
   "display_name": "Python 3 (ipykernel)",
   "language": "python",
   "name": "python3"
  },
  "language_info": {
   "codemirror_mode": {
    "name": "ipython",
    "version": 3
   },
   "file_extension": ".py",
   "mimetype": "text/x-python",
   "name": "python",
   "nbconvert_exporter": "python",
   "pygments_lexer": "ipython3",
   "version": "3.9.12"
  }
 },
 "nbformat": 4,
 "nbformat_minor": 5
}
