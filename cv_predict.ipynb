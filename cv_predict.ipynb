{
 "cells": [
  {
   "cell_type": "code",
   "execution_count": 1,
   "id": "71a3d98a",
   "metadata": {},
   "outputs": [],
   "source": [
    "import pandas as pd\n",
    "import numpy as np \n",
    "from sklearn.linear_model import LinearRegression\n",
    "from sklearn.model_selection import cross_val_predict\n",
    "from sklearn.model_selection import cross_val_score\n",
    "from sklearn.model_selection import KFold\n",
    "from sklearn.metrics import r2_score\n",
    "import os\n",
    "os.chdir(\"C:/Training/Academy/Statistics (Python)/Datasets\")"
   ]
  },
  {
   "cell_type": "code",
   "execution_count": 2,
   "id": "79a5f997",
   "metadata": {},
   "outputs": [
    {
     "data": {
      "text/html": [
       "<div>\n",
       "<style scoped>\n",
       "    .dataframe tbody tr th:only-of-type {\n",
       "        vertical-align: middle;\n",
       "    }\n",
       "\n",
       "    .dataframe tbody tr th {\n",
       "        vertical-align: top;\n",
       "    }\n",
       "\n",
       "    .dataframe thead th {\n",
       "        text-align: right;\n",
       "    }\n",
       "</style>\n",
       "<table border=\"1\" class=\"dataframe\">\n",
       "  <thead>\n",
       "    <tr style=\"text-align: right;\">\n",
       "      <th></th>\n",
       "      <th>Promote</th>\n",
       "      <th>Sales</th>\n",
       "    </tr>\n",
       "  </thead>\n",
       "  <tbody>\n",
       "    <tr>\n",
       "      <th>0</th>\n",
       "      <td>23</td>\n",
       "      <td>554</td>\n",
       "    </tr>\n",
       "    <tr>\n",
       "      <th>1</th>\n",
       "      <td>56</td>\n",
       "      <td>1339</td>\n",
       "    </tr>\n",
       "    <tr>\n",
       "      <th>2</th>\n",
       "      <td>34</td>\n",
       "      <td>815</td>\n",
       "    </tr>\n",
       "    <tr>\n",
       "      <th>3</th>\n",
       "      <td>25</td>\n",
       "      <td>609</td>\n",
       "    </tr>\n",
       "    <tr>\n",
       "      <th>4</th>\n",
       "      <td>67</td>\n",
       "      <td>1600</td>\n",
       "    </tr>\n",
       "    <tr>\n",
       "      <th>5</th>\n",
       "      <td>82</td>\n",
       "      <td>2000</td>\n",
       "    </tr>\n",
       "    <tr>\n",
       "      <th>6</th>\n",
       "      <td>46</td>\n",
       "      <td>1000</td>\n",
       "    </tr>\n",
       "    <tr>\n",
       "      <th>7</th>\n",
       "      <td>14</td>\n",
       "      <td>300</td>\n",
       "    </tr>\n",
       "    <tr>\n",
       "      <th>8</th>\n",
       "      <td>6</td>\n",
       "      <td>150</td>\n",
       "    </tr>\n",
       "    <tr>\n",
       "      <th>9</th>\n",
       "      <td>47</td>\n",
       "      <td>1150</td>\n",
       "    </tr>\n",
       "    <tr>\n",
       "      <th>10</th>\n",
       "      <td>52</td>\n",
       "      <td>1200</td>\n",
       "    </tr>\n",
       "    <tr>\n",
       "      <th>11</th>\n",
       "      <td>88</td>\n",
       "      <td>2000</td>\n",
       "    </tr>\n",
       "    <tr>\n",
       "      <th>12</th>\n",
       "      <td>71</td>\n",
       "      <td>1750</td>\n",
       "    </tr>\n",
       "    <tr>\n",
       "      <th>13</th>\n",
       "      <td>78</td>\n",
       "      <td>2000</td>\n",
       "    </tr>\n",
       "    <tr>\n",
       "      <th>14</th>\n",
       "      <td>66</td>\n",
       "      <td>1500</td>\n",
       "    </tr>\n",
       "    <tr>\n",
       "      <th>15</th>\n",
       "      <td>44</td>\n",
       "      <td>1000</td>\n",
       "    </tr>\n",
       "    <tr>\n",
       "      <th>16</th>\n",
       "      <td>68</td>\n",
       "      <td>1600</td>\n",
       "    </tr>\n",
       "    <tr>\n",
       "      <th>17</th>\n",
       "      <td>90</td>\n",
       "      <td>2000</td>\n",
       "    </tr>\n",
       "    <tr>\n",
       "      <th>18</th>\n",
       "      <td>22</td>\n",
       "      <td>550</td>\n",
       "    </tr>\n",
       "  </tbody>\n",
       "</table>\n",
       "</div>"
      ],
      "text/plain": [
       "    Promote  Sales\n",
       "0        23    554\n",
       "1        56   1339\n",
       "2        34    815\n",
       "3        25    609\n",
       "4        67   1600\n",
       "5        82   2000\n",
       "6        46   1000\n",
       "7        14    300\n",
       "8         6    150\n",
       "9        47   1150\n",
       "10       52   1200\n",
       "11       88   2000\n",
       "12       71   1750\n",
       "13       78   2000\n",
       "14       66   1500\n",
       "15       44   1000\n",
       "16       68   1600\n",
       "17       90   2000\n",
       "18       22    550"
      ]
     },
     "execution_count": 2,
     "metadata": {},
     "output_type": "execute_result"
    }
   ],
   "source": [
    "pizza = pd.read_csv(\"pizza.csv\")\n",
    "X = pizza[['Promote']]\n",
    "y = pizza['Sales']\n",
    "pizza"
   ]
  },
  {
   "cell_type": "code",
   "execution_count": 3,
   "id": "66893bd2",
   "metadata": {},
   "outputs": [],
   "source": [
    "lr = LinearRegression()\n",
    "kfold = KFold(n_splits=5, shuffle=True, random_state=23)"
   ]
  },
  {
   "cell_type": "markdown",
   "id": "f0cf387d",
   "metadata": {},
   "source": [
    "### Training & Testing Indices"
   ]
  },
  {
   "cell_type": "code",
   "execution_count": 4,
   "id": "bae98bc8",
   "metadata": {
    "scrolled": true
   },
   "outputs": [
    {
     "name": "stdout",
     "output_type": "stream",
     "text": [
      "Fold 1:\n",
      "  Train: index=[ 3  4  5  6  7  8  9 11 12 13 14 15 16 17 18]\n",
      "  Test:  index=[ 0  1  2 10]\n",
      "Predictions: [ 544.5648668  1321.40365344  803.51112902 1227.24137627]\n",
      "0.9967022850648689\n",
      "Fold 2:\n",
      "  Train: index=[ 0  1  2  3  6  7  8  9 10 11 12 13 16 17 18]\n",
      "  Test:  index=[ 4  5 14 15]\n",
      "Predictions: [1577.77212441 1927.75011737 1554.44025822 1041.13920188]\n",
      "0.9795659120417761\n",
      "Fold 3:\n",
      "  Train: index=[ 0  1  2  4  5  6  8  9 10 12 13 14 15 17 18]\n",
      "  Test:  index=[ 3  7 11 16]\n",
      "Predictions: [ 593.49312235  332.46223039 2088.48823085 1613.88660911]\n",
      "0.9951926046701205\n",
      "Fold 4:\n",
      "  Train: index=[ 0  1  2  3  4  5  6  7  8  9 10 11 14 15 16]\n",
      "  Test:  index=[12 13 17 18]\n",
      "Predictions: [1662.68632688 1826.55682925 2107.47769046  515.59281029]\n",
      "0.9650318754643461\n",
      "Fold 5:\n",
      "  Train: index=[ 0  1  2  3  4  5  7 10 11 12 13 14 15 16 17 18]\n",
      "  Test:  index=[6 8 9]\n",
      "Predictions: [1089.78164358  150.75561503 1113.25729429]\n",
      "0.9838200442975079\n"
     ]
    }
   ],
   "source": [
    "scores = []\n",
    "for i, (train_index, test_index) in enumerate(kfold.split(pizza)):\n",
    "    print(f\"Fold {i+1}:\")\n",
    "    print(f\"  Train: index={train_index}\")\n",
    "    X_train = X.iloc[train_index]\n",
    "    y_train = y.iloc[train_index]\n",
    "    lr.fit(X_train, y_train)\n",
    "\n",
    "    print(f\"  Test:  index={test_index}\")    \n",
    "    X_test = X.iloc[test_index]\n",
    "    y_test = y.iloc[test_index]\n",
    "    y_pred = lr.predict(X_test)\n",
    "    print(\"Predictions:\",y_pred)\n",
    "    \n",
    "    print(r2_score(y_true=y_test, y_pred=y_pred)) \n",
    "    scores.append(r2_score(y_true=y_test, y_pred=y_pred))"
   ]
  },
  {
   "cell_type": "code",
   "execution_count": 5,
   "id": "194657d0",
   "metadata": {},
   "outputs": [
    {
     "name": "stdout",
     "output_type": "stream",
     "text": [
      "[0.9967022850648689, 0.9795659120417761, 0.9951926046701205, 0.9650318754643461, 0.9838200442975079]\n"
     ]
    }
   ],
   "source": [
    "print(scores)"
   ]
  },
  {
   "cell_type": "code",
   "execution_count": 6,
   "id": "4bddb975",
   "metadata": {},
   "outputs": [
    {
     "name": "stdout",
     "output_type": "stream",
     "text": [
      "[0.99670229 0.97956591 0.9951926  0.96503188 0.98382004]\n"
     ]
    }
   ],
   "source": [
    "results = cross_val_score(lr, X, y, cv=kfold, scoring='r2')\n",
    "print(results)"
   ]
  },
  {
   "cell_type": "code",
   "execution_count": 7,
   "id": "f0639a0b",
   "metadata": {},
   "outputs": [
    {
     "data": {
      "text/plain": [
       "array([ 544.5648668 , 1321.40365344,  803.51112902,  593.49312235,\n",
       "       1577.77212441, 1927.75011737, 1089.78164358,  332.46223039,\n",
       "        150.75561503, 1113.25729429, 1227.24137627, 2088.48823085,\n",
       "       1662.68632688, 1826.55682925, 1554.44025822, 1041.13920188,\n",
       "       1613.88660911, 2107.47769046,  515.59281029])"
      ]
     },
     "execution_count": 7,
     "metadata": {},
     "output_type": "execute_result"
    }
   ],
   "source": [
    "predictions = cross_val_predict(lr, X, y, cv=kfold)\n",
    "predictions"
   ]
  },
  {
   "cell_type": "code",
   "execution_count": null,
   "id": "805d2004",
   "metadata": {},
   "outputs": [],
   "source": []
  },
  {
   "cell_type": "code",
   "execution_count": null,
   "id": "2378a8ca",
   "metadata": {},
   "outputs": [],
   "source": []
  }
 ],
 "metadata": {
  "kernelspec": {
   "display_name": "Python 3 (ipykernel)",
   "language": "python",
   "name": "python3"
  },
  "language_info": {
   "codemirror_mode": {
    "name": "ipython",
    "version": 3
   },
   "file_extension": ".py",
   "mimetype": "text/x-python",
   "name": "python",
   "nbconvert_exporter": "python",
   "pygments_lexer": "ipython3",
   "version": "3.10.9"
  }
 },
 "nbformat": 4,
 "nbformat_minor": 5
}
